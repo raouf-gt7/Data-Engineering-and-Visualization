{
  "nbformat": 4,
  "nbformat_minor": 0,
  "metadata": {
    "colab": {
      "provenance": [],
      "collapsed_sections": [
        "M4aXIpdInOuJ",
        "-_6dx9aBn9AB",
        "MetfHCzKW0ZM",
        "QCLnhZELW3qE",
        "gcdOSmkVnVbM",
        "jRrmYxTwn7Xp",
        "2_B1D2yxPfnW",
        "WqAtCwJro59S",
        "O8Ohc8fWh2rq",
        "Rq7SkXrUkG-b",
        "4ndeIk6XIt9W",
        "N2KLMx1fo-Fj",
        "AXuzdlAoK1sL",
        "4A7wYxEMI_cB",
        "l9Oz6xExKxwh",
        "0SpJqq2BLDEq"
      ]
    },
    "kernelspec": {
      "name": "python3",
      "display_name": "Python 3"
    },
    "language_info": {
      "name": "python"
    }
  },
  "cells": [
    {
      "cell_type": "markdown",
      "source": [
        "#DEV Project - 2015 USA Flights ✈\n",
        "\n"
      ],
      "metadata": {
        "id": "JGLMVwDhbrkO"
      }
    },
    {
      "cell_type": "markdown",
      "source": [
        "- AbdelRaouf Khorshed 5000267"
      ],
      "metadata": {
        "id": "gOSO9R2WB13W"
      }
    },
    {
      "cell_type": "markdown",
      "source": [
        "- https://www.kaggle.com/datasets/usdot/flight-delays?resource=download&select=flights.csv\n"
      ],
      "metadata": {
        "id": "D21A6-EZb1Pd"
      }
    },
    {
      "cell_type": "markdown",
      "source": [
        "##Importing datasets & libraries 📚"
      ],
      "metadata": {
        "id": "M4aXIpdInOuJ"
      }
    },
    {
      "cell_type": "code",
      "source": [
        "# Imports \n",
        "import pandas as pd \n",
        "import numpy as np \n",
        "import matplotlib.pyplot as plt\n",
        "import seaborn as sns\n",
        "\n",
        "import plotly.offline as py\n",
        "import plotly.figure_factory as ff\n",
        "py.init_notebook_mode(connected=True)\n",
        "import plotly.graph_objs as go\n",
        "from plotly import tools"
      ],
      "metadata": {
        "id": "rc3APstkpRp4",
        "colab": {
          "base_uri": "https://localhost:8080/",
          "height": 17
        },
        "outputId": "f866c32d-281c-43ed-a093-802c54b3d484"
      },
      "execution_count": null,
      "outputs": [
        {
          "output_type": "display_data",
          "data": {
            "text/html": [
              "        <script type=\"text/javascript\">\n",
              "        window.PlotlyConfig = {MathJaxConfig: 'local'};\n",
              "        if (window.MathJax) {MathJax.Hub.Config({SVG: {font: \"STIX-Web\"}});}\n",
              "        if (typeof require !== 'undefined') {\n",
              "        require.undef(\"plotly\");\n",
              "        requirejs.config({\n",
              "            paths: {\n",
              "                'plotly': ['https://cdn.plot.ly/plotly-2.8.3.min']\n",
              "            }\n",
              "        });\n",
              "        require(['plotly'], function(Plotly) {\n",
              "            window._Plotly = Plotly;\n",
              "        });\n",
              "        }\n",
              "        </script>\n",
              "        "
            ]
          },
          "metadata": {}
        }
      ]
    },
    {
      "cell_type": "markdown",
      "source": [
        "We are going to download the necessary file from kaggle. "
      ],
      "metadata": {
        "id": "vMzxJ3Q-6f50"
      }
    },
    {
      "cell_type": "code",
      "execution_count": null,
      "metadata": {
        "colab": {
          "base_uri": "https://localhost:8080/",
          "height": 90
        },
        "id": "nrH29cGja_-m",
        "outputId": "25a31229-900e-43d3-e38a-99ab094a3579"
      },
      "outputs": [
        {
          "output_type": "display_data",
          "data": {
            "text/plain": [
              "<IPython.core.display.HTML object>"
            ],
            "text/html": [
              "\n",
              "     <input type=\"file\" id=\"files-1cc8bb18-3395-4a7f-b6a4-a74adf231b33\" name=\"files[]\" multiple disabled\n",
              "        style=\"border:none\" />\n",
              "     <output id=\"result-1cc8bb18-3395-4a7f-b6a4-a74adf231b33\">\n",
              "      Upload widget is only available when the cell has been executed in the\n",
              "      current browser session. Please rerun this cell to enable.\n",
              "      </output>\n",
              "      <script>// Copyright 2017 Google LLC\n",
              "//\n",
              "// Licensed under the Apache License, Version 2.0 (the \"License\");\n",
              "// you may not use this file except in compliance with the License.\n",
              "// You may obtain a copy of the License at\n",
              "//\n",
              "//      http://www.apache.org/licenses/LICENSE-2.0\n",
              "//\n",
              "// Unless required by applicable law or agreed to in writing, software\n",
              "// distributed under the License is distributed on an \"AS IS\" BASIS,\n",
              "// WITHOUT WARRANTIES OR CONDITIONS OF ANY KIND, either express or implied.\n",
              "// See the License for the specific language governing permissions and\n",
              "// limitations under the License.\n",
              "\n",
              "/**\n",
              " * @fileoverview Helpers for google.colab Python module.\n",
              " */\n",
              "(function(scope) {\n",
              "function span(text, styleAttributes = {}) {\n",
              "  const element = document.createElement('span');\n",
              "  element.textContent = text;\n",
              "  for (const key of Object.keys(styleAttributes)) {\n",
              "    element.style[key] = styleAttributes[key];\n",
              "  }\n",
              "  return element;\n",
              "}\n",
              "\n",
              "// Max number of bytes which will be uploaded at a time.\n",
              "const MAX_PAYLOAD_SIZE = 100 * 1024;\n",
              "\n",
              "function _uploadFiles(inputId, outputId) {\n",
              "  const steps = uploadFilesStep(inputId, outputId);\n",
              "  const outputElement = document.getElementById(outputId);\n",
              "  // Cache steps on the outputElement to make it available for the next call\n",
              "  // to uploadFilesContinue from Python.\n",
              "  outputElement.steps = steps;\n",
              "\n",
              "  return _uploadFilesContinue(outputId);\n",
              "}\n",
              "\n",
              "// This is roughly an async generator (not supported in the browser yet),\n",
              "// where there are multiple asynchronous steps and the Python side is going\n",
              "// to poll for completion of each step.\n",
              "// This uses a Promise to block the python side on completion of each step,\n",
              "// then passes the result of the previous step as the input to the next step.\n",
              "function _uploadFilesContinue(outputId) {\n",
              "  const outputElement = document.getElementById(outputId);\n",
              "  const steps = outputElement.steps;\n",
              "\n",
              "  const next = steps.next(outputElement.lastPromiseValue);\n",
              "  return Promise.resolve(next.value.promise).then((value) => {\n",
              "    // Cache the last promise value to make it available to the next\n",
              "    // step of the generator.\n",
              "    outputElement.lastPromiseValue = value;\n",
              "    return next.value.response;\n",
              "  });\n",
              "}\n",
              "\n",
              "/**\n",
              " * Generator function which is called between each async step of the upload\n",
              " * process.\n",
              " * @param {string} inputId Element ID of the input file picker element.\n",
              " * @param {string} outputId Element ID of the output display.\n",
              " * @return {!Iterable<!Object>} Iterable of next steps.\n",
              " */\n",
              "function* uploadFilesStep(inputId, outputId) {\n",
              "  const inputElement = document.getElementById(inputId);\n",
              "  inputElement.disabled = false;\n",
              "\n",
              "  const outputElement = document.getElementById(outputId);\n",
              "  outputElement.innerHTML = '';\n",
              "\n",
              "  const pickedPromise = new Promise((resolve) => {\n",
              "    inputElement.addEventListener('change', (e) => {\n",
              "      resolve(e.target.files);\n",
              "    });\n",
              "  });\n",
              "\n",
              "  const cancel = document.createElement('button');\n",
              "  inputElement.parentElement.appendChild(cancel);\n",
              "  cancel.textContent = 'Cancel upload';\n",
              "  const cancelPromise = new Promise((resolve) => {\n",
              "    cancel.onclick = () => {\n",
              "      resolve(null);\n",
              "    };\n",
              "  });\n",
              "\n",
              "  // Wait for the user to pick the files.\n",
              "  const files = yield {\n",
              "    promise: Promise.race([pickedPromise, cancelPromise]),\n",
              "    response: {\n",
              "      action: 'starting',\n",
              "    }\n",
              "  };\n",
              "\n",
              "  cancel.remove();\n",
              "\n",
              "  // Disable the input element since further picks are not allowed.\n",
              "  inputElement.disabled = true;\n",
              "\n",
              "  if (!files) {\n",
              "    return {\n",
              "      response: {\n",
              "        action: 'complete',\n",
              "      }\n",
              "    };\n",
              "  }\n",
              "\n",
              "  for (const file of files) {\n",
              "    const li = document.createElement('li');\n",
              "    li.append(span(file.name, {fontWeight: 'bold'}));\n",
              "    li.append(span(\n",
              "        `(${file.type || 'n/a'}) - ${file.size} bytes, ` +\n",
              "        `last modified: ${\n",
              "            file.lastModifiedDate ? file.lastModifiedDate.toLocaleDateString() :\n",
              "                                    'n/a'} - `));\n",
              "    const percent = span('0% done');\n",
              "    li.appendChild(percent);\n",
              "\n",
              "    outputElement.appendChild(li);\n",
              "\n",
              "    const fileDataPromise = new Promise((resolve) => {\n",
              "      const reader = new FileReader();\n",
              "      reader.onload = (e) => {\n",
              "        resolve(e.target.result);\n",
              "      };\n",
              "      reader.readAsArrayBuffer(file);\n",
              "    });\n",
              "    // Wait for the data to be ready.\n",
              "    let fileData = yield {\n",
              "      promise: fileDataPromise,\n",
              "      response: {\n",
              "        action: 'continue',\n",
              "      }\n",
              "    };\n",
              "\n",
              "    // Use a chunked sending to avoid message size limits. See b/62115660.\n",
              "    let position = 0;\n",
              "    do {\n",
              "      const length = Math.min(fileData.byteLength - position, MAX_PAYLOAD_SIZE);\n",
              "      const chunk = new Uint8Array(fileData, position, length);\n",
              "      position += length;\n",
              "\n",
              "      const base64 = btoa(String.fromCharCode.apply(null, chunk));\n",
              "      yield {\n",
              "        response: {\n",
              "          action: 'append',\n",
              "          file: file.name,\n",
              "          data: base64,\n",
              "        },\n",
              "      };\n",
              "\n",
              "      let percentDone = fileData.byteLength === 0 ?\n",
              "          100 :\n",
              "          Math.round((position / fileData.byteLength) * 100);\n",
              "      percent.textContent = `${percentDone}% done`;\n",
              "\n",
              "    } while (position < fileData.byteLength);\n",
              "  }\n",
              "\n",
              "  // All done.\n",
              "  yield {\n",
              "    response: {\n",
              "      action: 'complete',\n",
              "    }\n",
              "  };\n",
              "}\n",
              "\n",
              "scope.google = scope.google || {};\n",
              "scope.google.colab = scope.google.colab || {};\n",
              "scope.google.colab._files = {\n",
              "  _uploadFiles,\n",
              "  _uploadFilesContinue,\n",
              "};\n",
              "})(self);\n",
              "</script> "
            ]
          },
          "metadata": {}
        },
        {
          "output_type": "stream",
          "name": "stdout",
          "text": [
            "Saving kaggle.json to kaggle.json\n"
          ]
        },
        {
          "output_type": "execute_result",
          "data": {
            "text/plain": [
              "{'kaggle.json': b'{\"username\":\"raoufkhorshed\",\"key\":\"4f00eeacc873c35c0325ea36ef5bbd7f\"}'}"
            ]
          },
          "metadata": {},
          "execution_count": 2
        }
      ],
      "source": [
        "from google.colab import files \n",
        "files.upload()"
      ]
    },
    {
      "cell_type": "code",
      "source": [
        "!ls -lha kaggle.json\n",
        "!pip install -q kaggle # installing the kaggle package\n",
        "!mkdir -p ~/.kaggle # creating .kaggle folder where the key should be placed\n",
        "!cp kaggle.json ~/.kaggle/ # move the key to the folder\n",
        "!pwd # checking the present working directory"
      ],
      "metadata": {
        "colab": {
          "base_uri": "https://localhost:8080/"
        },
        "id": "gJLg1wS5bKRk",
        "outputId": "2a212d96-8657-49d5-907e-96a7f7321a37"
      },
      "execution_count": null,
      "outputs": [
        {
          "output_type": "stream",
          "name": "stdout",
          "text": [
            "-rw-r--r-- 1 root root 69 Dec 30 12:12 kaggle.json\n",
            "/content\n"
          ]
        }
      ]
    },
    {
      "cell_type": "code",
      "source": [
        "!chmod 600 ~/.kaggle/kaggle.json\n",
        "#Else retry with fresh API token"
      ],
      "metadata": {
        "id": "yU7L6sDBcr0n"
      },
      "execution_count": null,
      "outputs": []
    },
    {
      "cell_type": "code",
      "source": [
        "!kaggle datasets list"
      ],
      "metadata": {
        "colab": {
          "base_uri": "https://localhost:8080/"
        },
        "id": "QAjzLUdVcx7p",
        "outputId": "036df2f3-25b8-4f18-9fc6-3527616f5ee1"
      },
      "execution_count": null,
      "outputs": [
        {
          "output_type": "stream",
          "name": "stdout",
          "text": [
            "ref                                                             title                                           size  lastUpdated          downloadCount  voteCount  usabilityRating  \n",
            "--------------------------------------------------------------  ---------------------------------------------  -----  -------------------  -------------  ---------  ---------------  \n",
            "meirnizri/covid19-dataset                                       COVID-19 Dataset                                 5MB  2022-11-13 15:47:17          14255        408  1.0              \n",
            "thedevastator/analyzing-credit-card-spending-habits-in-india    Credit Card Spending Habits in India           319KB  2022-12-14 07:30:37           1188         48  1.0              \n",
            "michals22/coffee-dataset                                        Coffee dataset                                  24KB  2022-12-15 20:02:12           3347         76  1.0              \n",
            "thedevastator/unlock-profits-with-e-commerce-sales-data         E-Commerce Sales Dataset                         6MB  2022-12-03 09:27:17           2580         63  1.0              \n",
            "thedevastator/jobs-dataset-from-glassdoor                       Salary Prediction                                3MB  2022-11-16 13:52:31           8068        178  1.0              \n",
            "die9origephit/fifa-world-cup-2022-complete-dataset              Fifa World Cup 2022: Complete Dataset            7KB  2022-12-18 22:51:11           2822        105  1.0              \n",
            "mattop/highest-grossing-mobile-games                            Highest Grossing Mobile Games                    3KB  2022-12-19 15:20:22            663         30  1.0              \n",
            "thedevastator/uncover-global-trends-in-mental-health-disorder   Global Trends in Mental Health Disorder          1MB  2022-12-14 05:30:38            933         31  1.0              \n",
            "rajkumarpandey02/fifa-world-cup-attendance-19302022             FIFA World Cup Attendance 1930-2022              5KB  2022-12-19 10:04:26            904         24  1.0              \n",
            "devrimtuner/number-of-road-motor-vehicles-turkey                Number of road motor vehicles 🇹🇷                 3KB  2022-12-25 13:04:17            270         23  0.9411765        \n",
            "thedevastator/revealing-insights-from-youtube-video-and-channe  YouTube Videos and Channels Metadata            82MB  2022-12-14 02:48:24            635         34  1.0              \n",
            "thedevastator/uncovering-insights-to-college-majors-and-their   College Majors and their Graduates              39KB  2022-12-06 16:06:52           1367         41  1.0              \n",
            "mvieira101/global-cost-of-living                                Global Cost of Living                            1MB  2022-12-03 16:37:53           3810         78  0.9705882        \n",
            "anashamoutni/students-employability-dataset                     Students' Employability Dataset - Philippines   97KB  2022-12-18 15:51:39            793         30  0.88235295       \n",
            "swaptr/fifa-world-cup-2022-statistics                           FIFA World Cup 2022 Team Data                   15KB  2022-12-19 00:29:15           2834         64  0.9705882        \n",
            "thedevastator/the-ultimate-netflix-tv-shows-and-movies-dataset  Netflix TV Shows and Movies (2022 Updated)       2MB  2022-11-27 20:41:41           2775         51  1.0              \n",
            "whenamancodes/predict-diabities                                 Predict Diabetes                                 9KB  2022-11-09 12:18:49           8430        134  1.0              \n",
            "kulturehire/understanding-career-aspirations-of-genz            Understanding Career Aspirations of GenZ         8KB  2022-12-21 13:44:32            340         24  0.9117647        \n",
            "thedevastator/uncovering-wage-disparities-in-pennsylvania-s-hi  Higher Education Wages                         223KB  2022-12-04 15:42:36           1386         46  1.0              \n",
            "laibaanwer/superstore-sales-dataset                             SuperStore Sales Dataset                         2MB  2022-12-07 08:53:32           1723         40  1.0              \n"
          ]
        }
      ]
    },
    {
      "cell_type": "code",
      "source": [
        "!kaggle datasets download -d usdot/flight-delays"
      ],
      "metadata": {
        "colab": {
          "base_uri": "https://localhost:8080/"
        },
        "id": "mavOeDgTdAGs",
        "outputId": "f2895cdc-c2d3-45d2-84e2-7814491c7152"
      },
      "execution_count": null,
      "outputs": [
        {
          "output_type": "stream",
          "name": "stdout",
          "text": [
            "Downloading flight-delays.zip to /content\n",
            " 99% 189M/191M [00:07<00:00, 29.8MB/s]\n",
            "100% 191M/191M [00:07<00:00, 28.1MB/s]\n"
          ]
        }
      ]
    },
    {
      "cell_type": "code",
      "source": [
        "!unzip flight-delays.zip"
      ],
      "metadata": {
        "colab": {
          "base_uri": "https://localhost:8080/"
        },
        "id": "SfcA2MmTm1mK",
        "outputId": "dc5a44da-48eb-4173-b84d-a33112d243f5"
      },
      "execution_count": null,
      "outputs": [
        {
          "output_type": "stream",
          "name": "stdout",
          "text": [
            "Archive:  flight-delays.zip\n",
            "  inflating: airlines.csv            \n",
            "  inflating: airports.csv            \n",
            "  inflating: flights.csv             \n"
          ]
        }
      ]
    },
    {
      "cell_type": "markdown",
      "source": [
        "##Reading the data & gathering information 📖"
      ],
      "metadata": {
        "id": "-_6dx9aBn9AB"
      }
    },
    {
      "cell_type": "markdown",
      "source": [
        "####Airlines_df\n"
      ],
      "metadata": {
        "id": "MetfHCzKW0ZM"
      }
    },
    {
      "cell_type": "code",
      "source": [
        "airlines_df = pd.read_csv(\"/content/airlines.csv\")\n",
        "airports_df = pd.read_csv(\"/content/airports.csv\")\n",
        "flights_df = pd.read_csv(\"/content/flights.csv\")\n",
        "airlines_df.head()"
      ],
      "metadata": {
        "colab": {
          "base_uri": "https://localhost:8080/",
          "height": 496
        },
        "id": "4FZTkx7opGwS",
        "outputId": "f021164f-36a5-4c82-9859-f4c08771f7ef"
      },
      "execution_count": null,
      "outputs": [
        {
          "output_type": "stream",
          "name": "stderr",
          "text": [
            "/usr/local/lib/python3.8/dist-packages/IPython/core/interactiveshell.py:3326: DtypeWarning:\n",
            "\n",
            "Columns (7,8) have mixed types.Specify dtype option on import or set low_memory=False.\n",
            "\n"
          ]
        },
        {
          "output_type": "execute_result",
          "data": {
            "text/plain": [
              "  IATA_CODE                 AIRLINE\n",
              "0        UA   United Air Lines Inc.\n",
              "1        AA  American Airlines Inc.\n",
              "2        US         US Airways Inc.\n",
              "3        F9  Frontier Airlines Inc.\n",
              "4        B6         JetBlue Airways"
            ],
            "text/html": [
              "\n",
              "  <div id=\"df-ff6b6317-d641-4a1f-9dca-a3cf154f1bb8\">\n",
              "    <div class=\"colab-df-container\">\n",
              "      <div>\n",
              "<style scoped>\n",
              "    .dataframe tbody tr th:only-of-type {\n",
              "        vertical-align: middle;\n",
              "    }\n",
              "\n",
              "    .dataframe tbody tr th {\n",
              "        vertical-align: top;\n",
              "    }\n",
              "\n",
              "    .dataframe thead th {\n",
              "        text-align: right;\n",
              "    }\n",
              "</style>\n",
              "<table border=\"1\" class=\"dataframe\">\n",
              "  <thead>\n",
              "    <tr style=\"text-align: right;\">\n",
              "      <th></th>\n",
              "      <th>IATA_CODE</th>\n",
              "      <th>AIRLINE</th>\n",
              "    </tr>\n",
              "  </thead>\n",
              "  <tbody>\n",
              "    <tr>\n",
              "      <th>0</th>\n",
              "      <td>UA</td>\n",
              "      <td>United Air Lines Inc.</td>\n",
              "    </tr>\n",
              "    <tr>\n",
              "      <th>1</th>\n",
              "      <td>AA</td>\n",
              "      <td>American Airlines Inc.</td>\n",
              "    </tr>\n",
              "    <tr>\n",
              "      <th>2</th>\n",
              "      <td>US</td>\n",
              "      <td>US Airways Inc.</td>\n",
              "    </tr>\n",
              "    <tr>\n",
              "      <th>3</th>\n",
              "      <td>F9</td>\n",
              "      <td>Frontier Airlines Inc.</td>\n",
              "    </tr>\n",
              "    <tr>\n",
              "      <th>4</th>\n",
              "      <td>B6</td>\n",
              "      <td>JetBlue Airways</td>\n",
              "    </tr>\n",
              "  </tbody>\n",
              "</table>\n",
              "</div>\n",
              "      <button class=\"colab-df-convert\" onclick=\"convertToInteractive('df-ff6b6317-d641-4a1f-9dca-a3cf154f1bb8')\"\n",
              "              title=\"Convert this dataframe to an interactive table.\"\n",
              "              style=\"display:none;\">\n",
              "        \n",
              "  <svg xmlns=\"http://www.w3.org/2000/svg\" height=\"24px\"viewBox=\"0 0 24 24\"\n",
              "       width=\"24px\">\n",
              "    <path d=\"M0 0h24v24H0V0z\" fill=\"none\"/>\n",
              "    <path d=\"M18.56 5.44l.94 2.06.94-2.06 2.06-.94-2.06-.94-.94-2.06-.94 2.06-2.06.94zm-11 1L8.5 8.5l.94-2.06 2.06-.94-2.06-.94L8.5 2.5l-.94 2.06-2.06.94zm10 10l.94 2.06.94-2.06 2.06-.94-2.06-.94-.94-2.06-.94 2.06-2.06.94z\"/><path d=\"M17.41 7.96l-1.37-1.37c-.4-.4-.92-.59-1.43-.59-.52 0-1.04.2-1.43.59L10.3 9.45l-7.72 7.72c-.78.78-.78 2.05 0 2.83L4 21.41c.39.39.9.59 1.41.59.51 0 1.02-.2 1.41-.59l7.78-7.78 2.81-2.81c.8-.78.8-2.07 0-2.86zM5.41 20L4 18.59l7.72-7.72 1.47 1.35L5.41 20z\"/>\n",
              "  </svg>\n",
              "      </button>\n",
              "      \n",
              "  <style>\n",
              "    .colab-df-container {\n",
              "      display:flex;\n",
              "      flex-wrap:wrap;\n",
              "      gap: 12px;\n",
              "    }\n",
              "\n",
              "    .colab-df-convert {\n",
              "      background-color: #E8F0FE;\n",
              "      border: none;\n",
              "      border-radius: 50%;\n",
              "      cursor: pointer;\n",
              "      display: none;\n",
              "      fill: #1967D2;\n",
              "      height: 32px;\n",
              "      padding: 0 0 0 0;\n",
              "      width: 32px;\n",
              "    }\n",
              "\n",
              "    .colab-df-convert:hover {\n",
              "      background-color: #E2EBFA;\n",
              "      box-shadow: 0px 1px 2px rgba(60, 64, 67, 0.3), 0px 1px 3px 1px rgba(60, 64, 67, 0.15);\n",
              "      fill: #174EA6;\n",
              "    }\n",
              "\n",
              "    [theme=dark] .colab-df-convert {\n",
              "      background-color: #3B4455;\n",
              "      fill: #D2E3FC;\n",
              "    }\n",
              "\n",
              "    [theme=dark] .colab-df-convert:hover {\n",
              "      background-color: #434B5C;\n",
              "      box-shadow: 0px 1px 3px 1px rgba(0, 0, 0, 0.15);\n",
              "      filter: drop-shadow(0px 1px 2px rgba(0, 0, 0, 0.3));\n",
              "      fill: #FFFFFF;\n",
              "    }\n",
              "  </style>\n",
              "\n",
              "      <script>\n",
              "        const buttonEl =\n",
              "          document.querySelector('#df-ff6b6317-d641-4a1f-9dca-a3cf154f1bb8 button.colab-df-convert');\n",
              "        buttonEl.style.display =\n",
              "          google.colab.kernel.accessAllowed ? 'block' : 'none';\n",
              "\n",
              "        async function convertToInteractive(key) {\n",
              "          const element = document.querySelector('#df-ff6b6317-d641-4a1f-9dca-a3cf154f1bb8');\n",
              "          const dataTable =\n",
              "            await google.colab.kernel.invokeFunction('convertToInteractive',\n",
              "                                                     [key], {});\n",
              "          if (!dataTable) return;\n",
              "\n",
              "          const docLinkHtml = 'Like what you see? Visit the ' +\n",
              "            '<a target=\"_blank\" href=https://colab.research.google.com/notebooks/data_table.ipynb>data table notebook</a>'\n",
              "            + ' to learn more about interactive tables.';\n",
              "          element.innerHTML = '';\n",
              "          dataTable['output_type'] = 'display_data';\n",
              "          await google.colab.output.renderOutput(dataTable, element);\n",
              "          const docLink = document.createElement('div');\n",
              "          docLink.innerHTML = docLinkHtml;\n",
              "          element.appendChild(docLink);\n",
              "        }\n",
              "      </script>\n",
              "    </div>\n",
              "  </div>\n",
              "  "
            ]
          },
          "metadata": {},
          "execution_count": 8
        }
      ]
    },
    {
      "cell_type": "code",
      "source": [
        "print(\"Airlines df shape: \", airlines_df.shape)\n",
        "print(\"Airlines df unique values: \", airlines_df['IATA_CODE'].unique().size)"
      ],
      "metadata": {
        "colab": {
          "base_uri": "https://localhost:8080/"
        },
        "id": "Smbwtix4P286",
        "outputId": "56c2677a-fef4-41cb-841a-f747b161479a"
      },
      "execution_count": null,
      "outputs": [
        {
          "output_type": "stream",
          "name": "stdout",
          "text": [
            "Airlines df shape:  (14, 2)\n",
            "Airlines df unique values:  14\n"
          ]
        }
      ]
    },
    {
      "cell_type": "markdown",
      "source": [
        "####Airports_df"
      ],
      "metadata": {
        "id": "QCLnhZELW3qE"
      }
    },
    {
      "cell_type": "code",
      "source": [
        "airports_df.head()"
      ],
      "metadata": {
        "id": "0GSB-z6jqGpZ",
        "outputId": "395abeef-e877-45f1-8d3a-e73dbf67c2f2",
        "colab": {
          "base_uri": "https://localhost:8080/",
          "height": 479
        }
      },
      "execution_count": null,
      "outputs": [
        {
          "output_type": "execute_result",
          "data": {
            "text/plain": [
              "  IATA_CODE                              AIRPORT         CITY STATE COUNTRY  \\\n",
              "0       ABE  Lehigh Valley International Airport    Allentown    PA     USA   \n",
              "1       ABI             Abilene Regional Airport      Abilene    TX     USA   \n",
              "2       ABQ    Albuquerque International Sunport  Albuquerque    NM     USA   \n",
              "3       ABR            Aberdeen Regional Airport     Aberdeen    SD     USA   \n",
              "4       ABY   Southwest Georgia Regional Airport       Albany    GA     USA   \n",
              "\n",
              "   LATITUDE  LONGITUDE  \n",
              "0  40.65236  -75.44040  \n",
              "1  32.41132  -99.68190  \n",
              "2  35.04022 -106.60919  \n",
              "3  45.44906  -98.42183  \n",
              "4  31.53552  -84.19447  "
            ],
            "text/html": [
              "\n",
              "  <div id=\"df-b443696e-83f9-401a-8ed4-18aa8bc8b93b\">\n",
              "    <div class=\"colab-df-container\">\n",
              "      <div>\n",
              "<style scoped>\n",
              "    .dataframe tbody tr th:only-of-type {\n",
              "        vertical-align: middle;\n",
              "    }\n",
              "\n",
              "    .dataframe tbody tr th {\n",
              "        vertical-align: top;\n",
              "    }\n",
              "\n",
              "    .dataframe thead th {\n",
              "        text-align: right;\n",
              "    }\n",
              "</style>\n",
              "<table border=\"1\" class=\"dataframe\">\n",
              "  <thead>\n",
              "    <tr style=\"text-align: right;\">\n",
              "      <th></th>\n",
              "      <th>IATA_CODE</th>\n",
              "      <th>AIRPORT</th>\n",
              "      <th>CITY</th>\n",
              "      <th>STATE</th>\n",
              "      <th>COUNTRY</th>\n",
              "      <th>LATITUDE</th>\n",
              "      <th>LONGITUDE</th>\n",
              "    </tr>\n",
              "  </thead>\n",
              "  <tbody>\n",
              "    <tr>\n",
              "      <th>0</th>\n",
              "      <td>ABE</td>\n",
              "      <td>Lehigh Valley International Airport</td>\n",
              "      <td>Allentown</td>\n",
              "      <td>PA</td>\n",
              "      <td>USA</td>\n",
              "      <td>40.65236</td>\n",
              "      <td>-75.44040</td>\n",
              "    </tr>\n",
              "    <tr>\n",
              "      <th>1</th>\n",
              "      <td>ABI</td>\n",
              "      <td>Abilene Regional Airport</td>\n",
              "      <td>Abilene</td>\n",
              "      <td>TX</td>\n",
              "      <td>USA</td>\n",
              "      <td>32.41132</td>\n",
              "      <td>-99.68190</td>\n",
              "    </tr>\n",
              "    <tr>\n",
              "      <th>2</th>\n",
              "      <td>ABQ</td>\n",
              "      <td>Albuquerque International Sunport</td>\n",
              "      <td>Albuquerque</td>\n",
              "      <td>NM</td>\n",
              "      <td>USA</td>\n",
              "      <td>35.04022</td>\n",
              "      <td>-106.60919</td>\n",
              "    </tr>\n",
              "    <tr>\n",
              "      <th>3</th>\n",
              "      <td>ABR</td>\n",
              "      <td>Aberdeen Regional Airport</td>\n",
              "      <td>Aberdeen</td>\n",
              "      <td>SD</td>\n",
              "      <td>USA</td>\n",
              "      <td>45.44906</td>\n",
              "      <td>-98.42183</td>\n",
              "    </tr>\n",
              "    <tr>\n",
              "      <th>4</th>\n",
              "      <td>ABY</td>\n",
              "      <td>Southwest Georgia Regional Airport</td>\n",
              "      <td>Albany</td>\n",
              "      <td>GA</td>\n",
              "      <td>USA</td>\n",
              "      <td>31.53552</td>\n",
              "      <td>-84.19447</td>\n",
              "    </tr>\n",
              "  </tbody>\n",
              "</table>\n",
              "</div>\n",
              "      <button class=\"colab-df-convert\" onclick=\"convertToInteractive('df-b443696e-83f9-401a-8ed4-18aa8bc8b93b')\"\n",
              "              title=\"Convert this dataframe to an interactive table.\"\n",
              "              style=\"display:none;\">\n",
              "        \n",
              "  <svg xmlns=\"http://www.w3.org/2000/svg\" height=\"24px\"viewBox=\"0 0 24 24\"\n",
              "       width=\"24px\">\n",
              "    <path d=\"M0 0h24v24H0V0z\" fill=\"none\"/>\n",
              "    <path d=\"M18.56 5.44l.94 2.06.94-2.06 2.06-.94-2.06-.94-.94-2.06-.94 2.06-2.06.94zm-11 1L8.5 8.5l.94-2.06 2.06-.94-2.06-.94L8.5 2.5l-.94 2.06-2.06.94zm10 10l.94 2.06.94-2.06 2.06-.94-2.06-.94-.94-2.06-.94 2.06-2.06.94z\"/><path d=\"M17.41 7.96l-1.37-1.37c-.4-.4-.92-.59-1.43-.59-.52 0-1.04.2-1.43.59L10.3 9.45l-7.72 7.72c-.78.78-.78 2.05 0 2.83L4 21.41c.39.39.9.59 1.41.59.51 0 1.02-.2 1.41-.59l7.78-7.78 2.81-2.81c.8-.78.8-2.07 0-2.86zM5.41 20L4 18.59l7.72-7.72 1.47 1.35L5.41 20z\"/>\n",
              "  </svg>\n",
              "      </button>\n",
              "      \n",
              "  <style>\n",
              "    .colab-df-container {\n",
              "      display:flex;\n",
              "      flex-wrap:wrap;\n",
              "      gap: 12px;\n",
              "    }\n",
              "\n",
              "    .colab-df-convert {\n",
              "      background-color: #E8F0FE;\n",
              "      border: none;\n",
              "      border-radius: 50%;\n",
              "      cursor: pointer;\n",
              "      display: none;\n",
              "      fill: #1967D2;\n",
              "      height: 32px;\n",
              "      padding: 0 0 0 0;\n",
              "      width: 32px;\n",
              "    }\n",
              "\n",
              "    .colab-df-convert:hover {\n",
              "      background-color: #E2EBFA;\n",
              "      box-shadow: 0px 1px 2px rgba(60, 64, 67, 0.3), 0px 1px 3px 1px rgba(60, 64, 67, 0.15);\n",
              "      fill: #174EA6;\n",
              "    }\n",
              "\n",
              "    [theme=dark] .colab-df-convert {\n",
              "      background-color: #3B4455;\n",
              "      fill: #D2E3FC;\n",
              "    }\n",
              "\n",
              "    [theme=dark] .colab-df-convert:hover {\n",
              "      background-color: #434B5C;\n",
              "      box-shadow: 0px 1px 3px 1px rgba(0, 0, 0, 0.15);\n",
              "      filter: drop-shadow(0px 1px 2px rgba(0, 0, 0, 0.3));\n",
              "      fill: #FFFFFF;\n",
              "    }\n",
              "  </style>\n",
              "\n",
              "      <script>\n",
              "        const buttonEl =\n",
              "          document.querySelector('#df-b443696e-83f9-401a-8ed4-18aa8bc8b93b button.colab-df-convert');\n",
              "        buttonEl.style.display =\n",
              "          google.colab.kernel.accessAllowed ? 'block' : 'none';\n",
              "\n",
              "        async function convertToInteractive(key) {\n",
              "          const element = document.querySelector('#df-b443696e-83f9-401a-8ed4-18aa8bc8b93b');\n",
              "          const dataTable =\n",
              "            await google.colab.kernel.invokeFunction('convertToInteractive',\n",
              "                                                     [key], {});\n",
              "          if (!dataTable) return;\n",
              "\n",
              "          const docLinkHtml = 'Like what you see? Visit the ' +\n",
              "            '<a target=\"_blank\" href=https://colab.research.google.com/notebooks/data_table.ipynb>data table notebook</a>'\n",
              "            + ' to learn more about interactive tables.';\n",
              "          element.innerHTML = '';\n",
              "          dataTable['output_type'] = 'display_data';\n",
              "          await google.colab.output.renderOutput(dataTable, element);\n",
              "          const docLink = document.createElement('div');\n",
              "          docLink.innerHTML = docLinkHtml;\n",
              "          element.appendChild(docLink);\n",
              "        }\n",
              "      </script>\n",
              "    </div>\n",
              "  </div>\n",
              "  "
            ]
          },
          "metadata": {},
          "execution_count": 10
        }
      ]
    },
    {
      "cell_type": "code",
      "source": [
        "print(\"Airports df shape: \", airports_df.shape)\n",
        "print(\"Aiports df unique values: \", airports_df['IATA_CODE'].unique().size)"
      ],
      "metadata": {
        "colab": {
          "base_uri": "https://localhost:8080/"
        },
        "id": "9zNi-YzCUgjv",
        "outputId": "50c14733-cfbe-4359-e4f9-80a0a9ac4e0e"
      },
      "execution_count": null,
      "outputs": [
        {
          "output_type": "stream",
          "name": "stdout",
          "text": [
            "Airports df shape:  (322, 7)\n",
            "Aiports df unique values:  322\n"
          ]
        }
      ]
    },
    {
      "cell_type": "code",
      "source": [
        "airports_df['COUNTRY'].value_counts()"
      ],
      "metadata": {
        "colab": {
          "base_uri": "https://localhost:8080/"
        },
        "id": "DLSfh_3GXPd9",
        "outputId": "eb85a9b7-8f0d-4d14-b89f-ec50428406c0"
      },
      "execution_count": null,
      "outputs": [
        {
          "output_type": "execute_result",
          "data": {
            "text/plain": [
              "USA    322\n",
              "Name: COUNTRY, dtype: int64"
            ]
          },
          "metadata": {},
          "execution_count": 12
        }
      ]
    },
    {
      "cell_type": "markdown",
      "source": [
        "####Flights_df"
      ],
      "metadata": {
        "id": "J3lot_qcXAsR"
      }
    },
    {
      "cell_type": "markdown",
      "source": [
        "- YEAR - Year of Flight Trip\n",
        "- MONTH - Month of Flight Trip \n",
        "- DAY - Day of flight trip\n",
        "- DAY_OF_WEEK - Day of week of the Flight Trip \n",
        "- AIRLINE - Airline Identifier \n",
        "- FLIGHT_NUMBER - Flight Identifier\n",
        "- TAIL_NUMBER - Aircraft identifier \n",
        "- DESTINATION_AIRPORT - Destination Airport \n",
        "- SCHEDULED_DEPARTURE - Planned Departure Time \n",
        "- DEPARTURE_DELAY - Total Delay on Depature\n",
        "- DEPATURE TIME - (WHEELS_OFF - TAXI_OUT)\n",
        "- TAXI_OUT - The time duration elapsed between departure from the origin airport gate and wheels off. \n",
        "- WHEELS_OFF - The time point that the aircraft's wheels leave the ground \n",
        "- SCHEDULED_TIME - Planned time amount needed for the flight trip \n",
        "- ELAPSED_TIME - AIR_TIME + TAXI_IN + TAXI_OUT\n",
        "- AIR_TIME = The time duration between WHEELS_OFF and WHEELS_ON time \n",
        "- DISTANCE - Distance between two airports\n",
        "- WHEELS_ON - The time point that the aircraft's wheels tough on the ground \n",
        "- TAXI_IN - The time duration elapsed between WHEELS_ON and gate arrival at the destinatio airport\n",
        "- SCHEDULED_ARRIVAL - Planned arrival time \n",
        "- ARRIVAL_TIME - WHEELS_ON + TAXI_IN\n",
        "- ARRIVAL_DELAY - ARRIVAL_TIME - SCHEDULED_ARRIVAL\n",
        "- DIVERTED - Aircraft landed on airport that out of schedule\n",
        "- CANCELED - Flight Canceled (1 = canceled)\n"
      ],
      "metadata": {
        "id": "rbx3Ne9iQN4u"
      }
    },
    {
      "cell_type": "code",
      "source": [
        "flights_df.head()"
      ],
      "metadata": {
        "id": "rThl0F0WqKQB",
        "outputId": "1dab42ad-5be9-4845-993d-540b71c92a3d",
        "colab": {
          "base_uri": "https://localhost:8080/",
          "height": 300
        }
      },
      "execution_count": null,
      "outputs": [
        {
          "output_type": "execute_result",
          "data": {
            "text/plain": [
              "   YEAR  MONTH  DAY  DAY_OF_WEEK AIRLINE  FLIGHT_NUMBER TAIL_NUMBER  \\\n",
              "0  2015      1    1            4      AS             98      N407AS   \n",
              "1  2015      1    1            4      AA           2336      N3KUAA   \n",
              "2  2015      1    1            4      US            840      N171US   \n",
              "3  2015      1    1            4      AA            258      N3HYAA   \n",
              "4  2015      1    1            4      AS            135      N527AS   \n",
              "\n",
              "  ORIGIN_AIRPORT DESTINATION_AIRPORT  SCHEDULED_DEPARTURE  ...  ARRIVAL_TIME  \\\n",
              "0            ANC                 SEA                    5  ...         408.0   \n",
              "1            LAX                 PBI                   10  ...         741.0   \n",
              "2            SFO                 CLT                   20  ...         811.0   \n",
              "3            LAX                 MIA                   20  ...         756.0   \n",
              "4            SEA                 ANC                   25  ...         259.0   \n",
              "\n",
              "   ARRIVAL_DELAY  DIVERTED  CANCELLED  CANCELLATION_REASON  AIR_SYSTEM_DELAY  \\\n",
              "0          -22.0         0          0                  NaN               NaN   \n",
              "1           -9.0         0          0                  NaN               NaN   \n",
              "2            5.0         0          0                  NaN               NaN   \n",
              "3           -9.0         0          0                  NaN               NaN   \n",
              "4          -21.0         0          0                  NaN               NaN   \n",
              "\n",
              "   SECURITY_DELAY  AIRLINE_DELAY  LATE_AIRCRAFT_DELAY  WEATHER_DELAY  \n",
              "0             NaN            NaN                  NaN            NaN  \n",
              "1             NaN            NaN                  NaN            NaN  \n",
              "2             NaN            NaN                  NaN            NaN  \n",
              "3             NaN            NaN                  NaN            NaN  \n",
              "4             NaN            NaN                  NaN            NaN  \n",
              "\n",
              "[5 rows x 31 columns]"
            ],
            "text/html": [
              "\n",
              "  <div id=\"df-d2bbe44d-5394-4ce0-93d8-b26ca0912578\">\n",
              "    <div class=\"colab-df-container\">\n",
              "      <div>\n",
              "<style scoped>\n",
              "    .dataframe tbody tr th:only-of-type {\n",
              "        vertical-align: middle;\n",
              "    }\n",
              "\n",
              "    .dataframe tbody tr th {\n",
              "        vertical-align: top;\n",
              "    }\n",
              "\n",
              "    .dataframe thead th {\n",
              "        text-align: right;\n",
              "    }\n",
              "</style>\n",
              "<table border=\"1\" class=\"dataframe\">\n",
              "  <thead>\n",
              "    <tr style=\"text-align: right;\">\n",
              "      <th></th>\n",
              "      <th>YEAR</th>\n",
              "      <th>MONTH</th>\n",
              "      <th>DAY</th>\n",
              "      <th>DAY_OF_WEEK</th>\n",
              "      <th>AIRLINE</th>\n",
              "      <th>FLIGHT_NUMBER</th>\n",
              "      <th>TAIL_NUMBER</th>\n",
              "      <th>ORIGIN_AIRPORT</th>\n",
              "      <th>DESTINATION_AIRPORT</th>\n",
              "      <th>SCHEDULED_DEPARTURE</th>\n",
              "      <th>...</th>\n",
              "      <th>ARRIVAL_TIME</th>\n",
              "      <th>ARRIVAL_DELAY</th>\n",
              "      <th>DIVERTED</th>\n",
              "      <th>CANCELLED</th>\n",
              "      <th>CANCELLATION_REASON</th>\n",
              "      <th>AIR_SYSTEM_DELAY</th>\n",
              "      <th>SECURITY_DELAY</th>\n",
              "      <th>AIRLINE_DELAY</th>\n",
              "      <th>LATE_AIRCRAFT_DELAY</th>\n",
              "      <th>WEATHER_DELAY</th>\n",
              "    </tr>\n",
              "  </thead>\n",
              "  <tbody>\n",
              "    <tr>\n",
              "      <th>0</th>\n",
              "      <td>2015</td>\n",
              "      <td>1</td>\n",
              "      <td>1</td>\n",
              "      <td>4</td>\n",
              "      <td>AS</td>\n",
              "      <td>98</td>\n",
              "      <td>N407AS</td>\n",
              "      <td>ANC</td>\n",
              "      <td>SEA</td>\n",
              "      <td>5</td>\n",
              "      <td>...</td>\n",
              "      <td>408.0</td>\n",
              "      <td>-22.0</td>\n",
              "      <td>0</td>\n",
              "      <td>0</td>\n",
              "      <td>NaN</td>\n",
              "      <td>NaN</td>\n",
              "      <td>NaN</td>\n",
              "      <td>NaN</td>\n",
              "      <td>NaN</td>\n",
              "      <td>NaN</td>\n",
              "    </tr>\n",
              "    <tr>\n",
              "      <th>1</th>\n",
              "      <td>2015</td>\n",
              "      <td>1</td>\n",
              "      <td>1</td>\n",
              "      <td>4</td>\n",
              "      <td>AA</td>\n",
              "      <td>2336</td>\n",
              "      <td>N3KUAA</td>\n",
              "      <td>LAX</td>\n",
              "      <td>PBI</td>\n",
              "      <td>10</td>\n",
              "      <td>...</td>\n",
              "      <td>741.0</td>\n",
              "      <td>-9.0</td>\n",
              "      <td>0</td>\n",
              "      <td>0</td>\n",
              "      <td>NaN</td>\n",
              "      <td>NaN</td>\n",
              "      <td>NaN</td>\n",
              "      <td>NaN</td>\n",
              "      <td>NaN</td>\n",
              "      <td>NaN</td>\n",
              "    </tr>\n",
              "    <tr>\n",
              "      <th>2</th>\n",
              "      <td>2015</td>\n",
              "      <td>1</td>\n",
              "      <td>1</td>\n",
              "      <td>4</td>\n",
              "      <td>US</td>\n",
              "      <td>840</td>\n",
              "      <td>N171US</td>\n",
              "      <td>SFO</td>\n",
              "      <td>CLT</td>\n",
              "      <td>20</td>\n",
              "      <td>...</td>\n",
              "      <td>811.0</td>\n",
              "      <td>5.0</td>\n",
              "      <td>0</td>\n",
              "      <td>0</td>\n",
              "      <td>NaN</td>\n",
              "      <td>NaN</td>\n",
              "      <td>NaN</td>\n",
              "      <td>NaN</td>\n",
              "      <td>NaN</td>\n",
              "      <td>NaN</td>\n",
              "    </tr>\n",
              "    <tr>\n",
              "      <th>3</th>\n",
              "      <td>2015</td>\n",
              "      <td>1</td>\n",
              "      <td>1</td>\n",
              "      <td>4</td>\n",
              "      <td>AA</td>\n",
              "      <td>258</td>\n",
              "      <td>N3HYAA</td>\n",
              "      <td>LAX</td>\n",
              "      <td>MIA</td>\n",
              "      <td>20</td>\n",
              "      <td>...</td>\n",
              "      <td>756.0</td>\n",
              "      <td>-9.0</td>\n",
              "      <td>0</td>\n",
              "      <td>0</td>\n",
              "      <td>NaN</td>\n",
              "      <td>NaN</td>\n",
              "      <td>NaN</td>\n",
              "      <td>NaN</td>\n",
              "      <td>NaN</td>\n",
              "      <td>NaN</td>\n",
              "    </tr>\n",
              "    <tr>\n",
              "      <th>4</th>\n",
              "      <td>2015</td>\n",
              "      <td>1</td>\n",
              "      <td>1</td>\n",
              "      <td>4</td>\n",
              "      <td>AS</td>\n",
              "      <td>135</td>\n",
              "      <td>N527AS</td>\n",
              "      <td>SEA</td>\n",
              "      <td>ANC</td>\n",
              "      <td>25</td>\n",
              "      <td>...</td>\n",
              "      <td>259.0</td>\n",
              "      <td>-21.0</td>\n",
              "      <td>0</td>\n",
              "      <td>0</td>\n",
              "      <td>NaN</td>\n",
              "      <td>NaN</td>\n",
              "      <td>NaN</td>\n",
              "      <td>NaN</td>\n",
              "      <td>NaN</td>\n",
              "      <td>NaN</td>\n",
              "    </tr>\n",
              "  </tbody>\n",
              "</table>\n",
              "<p>5 rows × 31 columns</p>\n",
              "</div>\n",
              "      <button class=\"colab-df-convert\" onclick=\"convertToInteractive('df-d2bbe44d-5394-4ce0-93d8-b26ca0912578')\"\n",
              "              title=\"Convert this dataframe to an interactive table.\"\n",
              "              style=\"display:none;\">\n",
              "        \n",
              "  <svg xmlns=\"http://www.w3.org/2000/svg\" height=\"24px\"viewBox=\"0 0 24 24\"\n",
              "       width=\"24px\">\n",
              "    <path d=\"M0 0h24v24H0V0z\" fill=\"none\"/>\n",
              "    <path d=\"M18.56 5.44l.94 2.06.94-2.06 2.06-.94-2.06-.94-.94-2.06-.94 2.06-2.06.94zm-11 1L8.5 8.5l.94-2.06 2.06-.94-2.06-.94L8.5 2.5l-.94 2.06-2.06.94zm10 10l.94 2.06.94-2.06 2.06-.94-2.06-.94-.94-2.06-.94 2.06-2.06.94z\"/><path d=\"M17.41 7.96l-1.37-1.37c-.4-.4-.92-.59-1.43-.59-.52 0-1.04.2-1.43.59L10.3 9.45l-7.72 7.72c-.78.78-.78 2.05 0 2.83L4 21.41c.39.39.9.59 1.41.59.51 0 1.02-.2 1.41-.59l7.78-7.78 2.81-2.81c.8-.78.8-2.07 0-2.86zM5.41 20L4 18.59l7.72-7.72 1.47 1.35L5.41 20z\"/>\n",
              "  </svg>\n",
              "      </button>\n",
              "      \n",
              "  <style>\n",
              "    .colab-df-container {\n",
              "      display:flex;\n",
              "      flex-wrap:wrap;\n",
              "      gap: 12px;\n",
              "    }\n",
              "\n",
              "    .colab-df-convert {\n",
              "      background-color: #E8F0FE;\n",
              "      border: none;\n",
              "      border-radius: 50%;\n",
              "      cursor: pointer;\n",
              "      display: none;\n",
              "      fill: #1967D2;\n",
              "      height: 32px;\n",
              "      padding: 0 0 0 0;\n",
              "      width: 32px;\n",
              "    }\n",
              "\n",
              "    .colab-df-convert:hover {\n",
              "      background-color: #E2EBFA;\n",
              "      box-shadow: 0px 1px 2px rgba(60, 64, 67, 0.3), 0px 1px 3px 1px rgba(60, 64, 67, 0.15);\n",
              "      fill: #174EA6;\n",
              "    }\n",
              "\n",
              "    [theme=dark] .colab-df-convert {\n",
              "      background-color: #3B4455;\n",
              "      fill: #D2E3FC;\n",
              "    }\n",
              "\n",
              "    [theme=dark] .colab-df-convert:hover {\n",
              "      background-color: #434B5C;\n",
              "      box-shadow: 0px 1px 3px 1px rgba(0, 0, 0, 0.15);\n",
              "      filter: drop-shadow(0px 1px 2px rgba(0, 0, 0, 0.3));\n",
              "      fill: #FFFFFF;\n",
              "    }\n",
              "  </style>\n",
              "\n",
              "      <script>\n",
              "        const buttonEl =\n",
              "          document.querySelector('#df-d2bbe44d-5394-4ce0-93d8-b26ca0912578 button.colab-df-convert');\n",
              "        buttonEl.style.display =\n",
              "          google.colab.kernel.accessAllowed ? 'block' : 'none';\n",
              "\n",
              "        async function convertToInteractive(key) {\n",
              "          const element = document.querySelector('#df-d2bbe44d-5394-4ce0-93d8-b26ca0912578');\n",
              "          const dataTable =\n",
              "            await google.colab.kernel.invokeFunction('convertToInteractive',\n",
              "                                                     [key], {});\n",
              "          if (!dataTable) return;\n",
              "\n",
              "          const docLinkHtml = 'Like what you see? Visit the ' +\n",
              "            '<a target=\"_blank\" href=https://colab.research.google.com/notebooks/data_table.ipynb>data table notebook</a>'\n",
              "            + ' to learn more about interactive tables.';\n",
              "          element.innerHTML = '';\n",
              "          dataTable['output_type'] = 'display_data';\n",
              "          await google.colab.output.renderOutput(dataTable, element);\n",
              "          const docLink = document.createElement('div');\n",
              "          docLink.innerHTML = docLinkHtml;\n",
              "          element.appendChild(docLink);\n",
              "        }\n",
              "      </script>\n",
              "    </div>\n",
              "  </div>\n",
              "  "
            ]
          },
          "metadata": {},
          "execution_count": 13
        }
      ]
    },
    {
      "cell_type": "code",
      "source": [
        "flights_df.info()"
      ],
      "metadata": {
        "colab": {
          "base_uri": "https://localhost:8080/"
        },
        "id": "RKdVJ4Zy55j5",
        "outputId": "ebb85aed-dadd-4f2c-9e97-f2edd67a54c5"
      },
      "execution_count": null,
      "outputs": [
        {
          "output_type": "stream",
          "name": "stdout",
          "text": [
            "<class 'pandas.core.frame.DataFrame'>\n",
            "RangeIndex: 5819079 entries, 0 to 5819078\n",
            "Data columns (total 31 columns):\n",
            " #   Column               Dtype  \n",
            "---  ------               -----  \n",
            " 0   YEAR                 int64  \n",
            " 1   MONTH                int64  \n",
            " 2   DAY                  int64  \n",
            " 3   DAY_OF_WEEK          int64  \n",
            " 4   AIRLINE              object \n",
            " 5   FLIGHT_NUMBER        int64  \n",
            " 6   TAIL_NUMBER          object \n",
            " 7   ORIGIN_AIRPORT       object \n",
            " 8   DESTINATION_AIRPORT  object \n",
            " 9   SCHEDULED_DEPARTURE  int64  \n",
            " 10  DEPARTURE_TIME       float64\n",
            " 11  DEPARTURE_DELAY      float64\n",
            " 12  TAXI_OUT             float64\n",
            " 13  WHEELS_OFF           float64\n",
            " 14  SCHEDULED_TIME       float64\n",
            " 15  ELAPSED_TIME         float64\n",
            " 16  AIR_TIME             float64\n",
            " 17  DISTANCE             int64  \n",
            " 18  WHEELS_ON            float64\n",
            " 19  TAXI_IN              float64\n",
            " 20  SCHEDULED_ARRIVAL    int64  \n",
            " 21  ARRIVAL_TIME         float64\n",
            " 22  ARRIVAL_DELAY        float64\n",
            " 23  DIVERTED             int64  \n",
            " 24  CANCELLED            int64  \n",
            " 25  CANCELLATION_REASON  object \n",
            " 26  AIR_SYSTEM_DELAY     float64\n",
            " 27  SECURITY_DELAY       float64\n",
            " 28  AIRLINE_DELAY        float64\n",
            " 29  LATE_AIRCRAFT_DELAY  float64\n",
            " 30  WEATHER_DELAY        float64\n",
            "dtypes: float64(16), int64(10), object(5)\n",
            "memory usage: 1.3+ GB\n"
          ]
        }
      ]
    },
    {
      "cell_type": "code",
      "source": [
        "flights_df['AIRLINE'].value_counts()"
      ],
      "metadata": {
        "colab": {
          "base_uri": "https://localhost:8080/"
        },
        "id": "dN83N3Jfmrd7",
        "outputId": "62e4383c-a7c8-4d56-9056-51d19171a0d9"
      },
      "execution_count": null,
      "outputs": [
        {
          "output_type": "execute_result",
          "data": {
            "text/plain": [
              "WN    1261855\n",
              "DL     875881\n",
              "AA     725984\n",
              "OO     588353\n",
              "EV     571977\n",
              "UA     515723\n",
              "MQ     294632\n",
              "B6     267048\n",
              "US     198715\n",
              "AS     172521\n",
              "NK     117379\n",
              "F9      90836\n",
              "HA      76272\n",
              "VX      61903\n",
              "Name: AIRLINE, dtype: int64"
            ]
          },
          "metadata": {},
          "execution_count": 15
        }
      ]
    },
    {
      "cell_type": "code",
      "source": [
        "flights_df.shape"
      ],
      "metadata": {
        "colab": {
          "base_uri": "https://localhost:8080/"
        },
        "id": "PxQqtcqV116Y",
        "outputId": "6f1d85ea-dc2c-406a-ef31-65645b408eb4"
      },
      "execution_count": null,
      "outputs": [
        {
          "output_type": "execute_result",
          "data": {
            "text/plain": [
              "(5819079, 31)"
            ]
          },
          "metadata": {},
          "execution_count": 16
        }
      ]
    },
    {
      "cell_type": "markdown",
      "source": [
        "##Data Integration 📥"
      ],
      "metadata": {
        "id": "gcdOSmkVnVbM"
      }
    },
    {
      "cell_type": "markdown",
      "source": [
        "We're going to do all the necessary integration for our new dataset. "
      ],
      "metadata": {
        "id": "nXrHwsWBJ2T4"
      }
    },
    {
      "cell_type": "code",
      "source": [
        "#df1 = pd.merge(flights_df, airlines_df, on = 'Airlines')\n",
        "#df1 = pd.concat([airlines_df, flights_df], axis = 1, join = 'inner')\n",
        "df1 = pd.merge(airlines_df, flights_df, left_on=\"IATA_CODE\", right_on=\"AIRLINE\")\n",
        "df1 = pd.merge(airports_df, df1, left_on=\"IATA_CODE\", right_on=\"ORIGIN_AIRPORT\" )\n",
        "df1 = pd.merge(airports_df, df1, left_on=\"IATA_CODE\", right_on=\"DESTINATION_AIRPORT\" )"
      ],
      "metadata": {
        "id": "VQKOfc0_a2IM"
      },
      "execution_count": null,
      "outputs": []
    },
    {
      "cell_type": "code",
      "source": [
        "df1.head()"
      ],
      "metadata": {
        "colab": {
          "base_uri": "https://localhost:8080/",
          "height": 647
        },
        "id": "R52sD1fl1oj7",
        "outputId": "6aaf8e14-62da-45eb-e204-af52c4303b66"
      },
      "execution_count": null,
      "outputs": [
        {
          "output_type": "execute_result",
          "data": {
            "text/plain": [
              "  IATA_CODE                            AIRPORT_x     CITY_x STATE_x COUNTRY_x  \\\n",
              "0       ABE  Lehigh Valley International Airport  Allentown      PA       USA   \n",
              "1       ABE  Lehigh Valley International Airport  Allentown      PA       USA   \n",
              "2       ABE  Lehigh Valley International Airport  Allentown      PA       USA   \n",
              "3       ABE  Lehigh Valley International Airport  Allentown      PA       USA   \n",
              "4       ABE  Lehigh Valley International Airport  Allentown      PA       USA   \n",
              "\n",
              "   LATITUDE_x  LONGITUDE_x IATA_CODE_x  \\\n",
              "0    40.65236     -75.4404         ATL   \n",
              "1    40.65236     -75.4404         ATL   \n",
              "2    40.65236     -75.4404         ATL   \n",
              "3    40.65236     -75.4404         ATL   \n",
              "4    40.65236     -75.4404         ATL   \n",
              "\n",
              "                                          AIRPORT_y   CITY_y  ...  \\\n",
              "0  Hartsfield-Jackson Atlanta International Airport  Atlanta  ...   \n",
              "1  Hartsfield-Jackson Atlanta International Airport  Atlanta  ...   \n",
              "2  Hartsfield-Jackson Atlanta International Airport  Atlanta  ...   \n",
              "3  Hartsfield-Jackson Atlanta International Airport  Atlanta  ...   \n",
              "4  Hartsfield-Jackson Atlanta International Airport  Atlanta  ...   \n",
              "\n",
              "  ARRIVAL_TIME ARRIVAL_DELAY  DIVERTED  CANCELLED CANCELLATION_REASON  \\\n",
              "0       2252.0           1.0         0          0                 NaN   \n",
              "1       2227.0           2.0         0          0                 NaN   \n",
              "2       2221.0          -4.0         0          0                 NaN   \n",
              "3       2226.0           1.0         0          0                 NaN   \n",
              "4       2223.0          -2.0         0          0                 NaN   \n",
              "\n",
              "  AIR_SYSTEM_DELAY  SECURITY_DELAY  AIRLINE_DELAY  LATE_AIRCRAFT_DELAY  \\\n",
              "0              NaN             NaN            NaN                  NaN   \n",
              "1              NaN             NaN            NaN                  NaN   \n",
              "2              NaN             NaN            NaN                  NaN   \n",
              "3              NaN             NaN            NaN                  NaN   \n",
              "4              NaN             NaN            NaN                  NaN   \n",
              "\n",
              "   WEATHER_DELAY  \n",
              "0            NaN  \n",
              "1            NaN  \n",
              "2            NaN  \n",
              "3            NaN  \n",
              "4            NaN  \n",
              "\n",
              "[5 rows x 47 columns]"
            ],
            "text/html": [
              "\n",
              "  <div id=\"df-ca2cd020-6ac3-43e1-8b8e-b1f9e4f694a9\">\n",
              "    <div class=\"colab-df-container\">\n",
              "      <div>\n",
              "<style scoped>\n",
              "    .dataframe tbody tr th:only-of-type {\n",
              "        vertical-align: middle;\n",
              "    }\n",
              "\n",
              "    .dataframe tbody tr th {\n",
              "        vertical-align: top;\n",
              "    }\n",
              "\n",
              "    .dataframe thead th {\n",
              "        text-align: right;\n",
              "    }\n",
              "</style>\n",
              "<table border=\"1\" class=\"dataframe\">\n",
              "  <thead>\n",
              "    <tr style=\"text-align: right;\">\n",
              "      <th></th>\n",
              "      <th>IATA_CODE</th>\n",
              "      <th>AIRPORT_x</th>\n",
              "      <th>CITY_x</th>\n",
              "      <th>STATE_x</th>\n",
              "      <th>COUNTRY_x</th>\n",
              "      <th>LATITUDE_x</th>\n",
              "      <th>LONGITUDE_x</th>\n",
              "      <th>IATA_CODE_x</th>\n",
              "      <th>AIRPORT_y</th>\n",
              "      <th>CITY_y</th>\n",
              "      <th>...</th>\n",
              "      <th>ARRIVAL_TIME</th>\n",
              "      <th>ARRIVAL_DELAY</th>\n",
              "      <th>DIVERTED</th>\n",
              "      <th>CANCELLED</th>\n",
              "      <th>CANCELLATION_REASON</th>\n",
              "      <th>AIR_SYSTEM_DELAY</th>\n",
              "      <th>SECURITY_DELAY</th>\n",
              "      <th>AIRLINE_DELAY</th>\n",
              "      <th>LATE_AIRCRAFT_DELAY</th>\n",
              "      <th>WEATHER_DELAY</th>\n",
              "    </tr>\n",
              "  </thead>\n",
              "  <tbody>\n",
              "    <tr>\n",
              "      <th>0</th>\n",
              "      <td>ABE</td>\n",
              "      <td>Lehigh Valley International Airport</td>\n",
              "      <td>Allentown</td>\n",
              "      <td>PA</td>\n",
              "      <td>USA</td>\n",
              "      <td>40.65236</td>\n",
              "      <td>-75.4404</td>\n",
              "      <td>ATL</td>\n",
              "      <td>Hartsfield-Jackson Atlanta International Airport</td>\n",
              "      <td>Atlanta</td>\n",
              "      <td>...</td>\n",
              "      <td>2252.0</td>\n",
              "      <td>1.0</td>\n",
              "      <td>0</td>\n",
              "      <td>0</td>\n",
              "      <td>NaN</td>\n",
              "      <td>NaN</td>\n",
              "      <td>NaN</td>\n",
              "      <td>NaN</td>\n",
              "      <td>NaN</td>\n",
              "      <td>NaN</td>\n",
              "    </tr>\n",
              "    <tr>\n",
              "      <th>1</th>\n",
              "      <td>ABE</td>\n",
              "      <td>Lehigh Valley International Airport</td>\n",
              "      <td>Allentown</td>\n",
              "      <td>PA</td>\n",
              "      <td>USA</td>\n",
              "      <td>40.65236</td>\n",
              "      <td>-75.4404</td>\n",
              "      <td>ATL</td>\n",
              "      <td>Hartsfield-Jackson Atlanta International Airport</td>\n",
              "      <td>Atlanta</td>\n",
              "      <td>...</td>\n",
              "      <td>2227.0</td>\n",
              "      <td>2.0</td>\n",
              "      <td>0</td>\n",
              "      <td>0</td>\n",
              "      <td>NaN</td>\n",
              "      <td>NaN</td>\n",
              "      <td>NaN</td>\n",
              "      <td>NaN</td>\n",
              "      <td>NaN</td>\n",
              "      <td>NaN</td>\n",
              "    </tr>\n",
              "    <tr>\n",
              "      <th>2</th>\n",
              "      <td>ABE</td>\n",
              "      <td>Lehigh Valley International Airport</td>\n",
              "      <td>Allentown</td>\n",
              "      <td>PA</td>\n",
              "      <td>USA</td>\n",
              "      <td>40.65236</td>\n",
              "      <td>-75.4404</td>\n",
              "      <td>ATL</td>\n",
              "      <td>Hartsfield-Jackson Atlanta International Airport</td>\n",
              "      <td>Atlanta</td>\n",
              "      <td>...</td>\n",
              "      <td>2221.0</td>\n",
              "      <td>-4.0</td>\n",
              "      <td>0</td>\n",
              "      <td>0</td>\n",
              "      <td>NaN</td>\n",
              "      <td>NaN</td>\n",
              "      <td>NaN</td>\n",
              "      <td>NaN</td>\n",
              "      <td>NaN</td>\n",
              "      <td>NaN</td>\n",
              "    </tr>\n",
              "    <tr>\n",
              "      <th>3</th>\n",
              "      <td>ABE</td>\n",
              "      <td>Lehigh Valley International Airport</td>\n",
              "      <td>Allentown</td>\n",
              "      <td>PA</td>\n",
              "      <td>USA</td>\n",
              "      <td>40.65236</td>\n",
              "      <td>-75.4404</td>\n",
              "      <td>ATL</td>\n",
              "      <td>Hartsfield-Jackson Atlanta International Airport</td>\n",
              "      <td>Atlanta</td>\n",
              "      <td>...</td>\n",
              "      <td>2226.0</td>\n",
              "      <td>1.0</td>\n",
              "      <td>0</td>\n",
              "      <td>0</td>\n",
              "      <td>NaN</td>\n",
              "      <td>NaN</td>\n",
              "      <td>NaN</td>\n",
              "      <td>NaN</td>\n",
              "      <td>NaN</td>\n",
              "      <td>NaN</td>\n",
              "    </tr>\n",
              "    <tr>\n",
              "      <th>4</th>\n",
              "      <td>ABE</td>\n",
              "      <td>Lehigh Valley International Airport</td>\n",
              "      <td>Allentown</td>\n",
              "      <td>PA</td>\n",
              "      <td>USA</td>\n",
              "      <td>40.65236</td>\n",
              "      <td>-75.4404</td>\n",
              "      <td>ATL</td>\n",
              "      <td>Hartsfield-Jackson Atlanta International Airport</td>\n",
              "      <td>Atlanta</td>\n",
              "      <td>...</td>\n",
              "      <td>2223.0</td>\n",
              "      <td>-2.0</td>\n",
              "      <td>0</td>\n",
              "      <td>0</td>\n",
              "      <td>NaN</td>\n",
              "      <td>NaN</td>\n",
              "      <td>NaN</td>\n",
              "      <td>NaN</td>\n",
              "      <td>NaN</td>\n",
              "      <td>NaN</td>\n",
              "    </tr>\n",
              "  </tbody>\n",
              "</table>\n",
              "<p>5 rows × 47 columns</p>\n",
              "</div>\n",
              "      <button class=\"colab-df-convert\" onclick=\"convertToInteractive('df-ca2cd020-6ac3-43e1-8b8e-b1f9e4f694a9')\"\n",
              "              title=\"Convert this dataframe to an interactive table.\"\n",
              "              style=\"display:none;\">\n",
              "        \n",
              "  <svg xmlns=\"http://www.w3.org/2000/svg\" height=\"24px\"viewBox=\"0 0 24 24\"\n",
              "       width=\"24px\">\n",
              "    <path d=\"M0 0h24v24H0V0z\" fill=\"none\"/>\n",
              "    <path d=\"M18.56 5.44l.94 2.06.94-2.06 2.06-.94-2.06-.94-.94-2.06-.94 2.06-2.06.94zm-11 1L8.5 8.5l.94-2.06 2.06-.94-2.06-.94L8.5 2.5l-.94 2.06-2.06.94zm10 10l.94 2.06.94-2.06 2.06-.94-2.06-.94-.94-2.06-.94 2.06-2.06.94z\"/><path d=\"M17.41 7.96l-1.37-1.37c-.4-.4-.92-.59-1.43-.59-.52 0-1.04.2-1.43.59L10.3 9.45l-7.72 7.72c-.78.78-.78 2.05 0 2.83L4 21.41c.39.39.9.59 1.41.59.51 0 1.02-.2 1.41-.59l7.78-7.78 2.81-2.81c.8-.78.8-2.07 0-2.86zM5.41 20L4 18.59l7.72-7.72 1.47 1.35L5.41 20z\"/>\n",
              "  </svg>\n",
              "      </button>\n",
              "      \n",
              "  <style>\n",
              "    .colab-df-container {\n",
              "      display:flex;\n",
              "      flex-wrap:wrap;\n",
              "      gap: 12px;\n",
              "    }\n",
              "\n",
              "    .colab-df-convert {\n",
              "      background-color: #E8F0FE;\n",
              "      border: none;\n",
              "      border-radius: 50%;\n",
              "      cursor: pointer;\n",
              "      display: none;\n",
              "      fill: #1967D2;\n",
              "      height: 32px;\n",
              "      padding: 0 0 0 0;\n",
              "      width: 32px;\n",
              "    }\n",
              "\n",
              "    .colab-df-convert:hover {\n",
              "      background-color: #E2EBFA;\n",
              "      box-shadow: 0px 1px 2px rgba(60, 64, 67, 0.3), 0px 1px 3px 1px rgba(60, 64, 67, 0.15);\n",
              "      fill: #174EA6;\n",
              "    }\n",
              "\n",
              "    [theme=dark] .colab-df-convert {\n",
              "      background-color: #3B4455;\n",
              "      fill: #D2E3FC;\n",
              "    }\n",
              "\n",
              "    [theme=dark] .colab-df-convert:hover {\n",
              "      background-color: #434B5C;\n",
              "      box-shadow: 0px 1px 3px 1px rgba(0, 0, 0, 0.15);\n",
              "      filter: drop-shadow(0px 1px 2px rgba(0, 0, 0, 0.3));\n",
              "      fill: #FFFFFF;\n",
              "    }\n",
              "  </style>\n",
              "\n",
              "      <script>\n",
              "        const buttonEl =\n",
              "          document.querySelector('#df-ca2cd020-6ac3-43e1-8b8e-b1f9e4f694a9 button.colab-df-convert');\n",
              "        buttonEl.style.display =\n",
              "          google.colab.kernel.accessAllowed ? 'block' : 'none';\n",
              "\n",
              "        async function convertToInteractive(key) {\n",
              "          const element = document.querySelector('#df-ca2cd020-6ac3-43e1-8b8e-b1f9e4f694a9');\n",
              "          const dataTable =\n",
              "            await google.colab.kernel.invokeFunction('convertToInteractive',\n",
              "                                                     [key], {});\n",
              "          if (!dataTable) return;\n",
              "\n",
              "          const docLinkHtml = 'Like what you see? Visit the ' +\n",
              "            '<a target=\"_blank\" href=https://colab.research.google.com/notebooks/data_table.ipynb>data table notebook</a>'\n",
              "            + ' to learn more about interactive tables.';\n",
              "          element.innerHTML = '';\n",
              "          dataTable['output_type'] = 'display_data';\n",
              "          await google.colab.output.renderOutput(dataTable, element);\n",
              "          const docLink = document.createElement('div');\n",
              "          docLink.innerHTML = docLinkHtml;\n",
              "          element.appendChild(docLink);\n",
              "        }\n",
              "      </script>\n",
              "    </div>\n",
              "  </div>\n",
              "  "
            ]
          },
          "metadata": {},
          "execution_count": 18
        }
      ]
    },
    {
      "cell_type": "code",
      "source": [
        "list(df1)"
      ],
      "metadata": {
        "colab": {
          "base_uri": "https://localhost:8080/"
        },
        "id": "NOdCPSQ34Drh",
        "outputId": "65490c4c-ae7c-4dc6-d339-684d964b2ffb"
      },
      "execution_count": null,
      "outputs": [
        {
          "output_type": "execute_result",
          "data": {
            "text/plain": [
              "['IATA_CODE',\n",
              " 'AIRPORT_x',\n",
              " 'CITY_x',\n",
              " 'STATE_x',\n",
              " 'COUNTRY_x',\n",
              " 'LATITUDE_x',\n",
              " 'LONGITUDE_x',\n",
              " 'IATA_CODE_x',\n",
              " 'AIRPORT_y',\n",
              " 'CITY_y',\n",
              " 'STATE_y',\n",
              " 'COUNTRY_y',\n",
              " 'LATITUDE_y',\n",
              " 'LONGITUDE_y',\n",
              " 'IATA_CODE_y',\n",
              " 'AIRLINE_x',\n",
              " 'YEAR',\n",
              " 'MONTH',\n",
              " 'DAY',\n",
              " 'DAY_OF_WEEK',\n",
              " 'AIRLINE_y',\n",
              " 'FLIGHT_NUMBER',\n",
              " 'TAIL_NUMBER',\n",
              " 'ORIGIN_AIRPORT',\n",
              " 'DESTINATION_AIRPORT',\n",
              " 'SCHEDULED_DEPARTURE',\n",
              " 'DEPARTURE_TIME',\n",
              " 'DEPARTURE_DELAY',\n",
              " 'TAXI_OUT',\n",
              " 'WHEELS_OFF',\n",
              " 'SCHEDULED_TIME',\n",
              " 'ELAPSED_TIME',\n",
              " 'AIR_TIME',\n",
              " 'DISTANCE',\n",
              " 'WHEELS_ON',\n",
              " 'TAXI_IN',\n",
              " 'SCHEDULED_ARRIVAL',\n",
              " 'ARRIVAL_TIME',\n",
              " 'ARRIVAL_DELAY',\n",
              " 'DIVERTED',\n",
              " 'CANCELLED',\n",
              " 'CANCELLATION_REASON',\n",
              " 'AIR_SYSTEM_DELAY',\n",
              " 'SECURITY_DELAY',\n",
              " 'AIRLINE_DELAY',\n",
              " 'LATE_AIRCRAFT_DELAY',\n",
              " 'WEATHER_DELAY']"
            ]
          },
          "metadata": {},
          "execution_count": 19
        }
      ]
    },
    {
      "cell_type": "code",
      "source": [
        "df1[['IATA_CODE', 'ORIGIN_AIRPORT', 'DESTINATION_AIRPORT', 'AIRPORT_x', 'AIRPORT_y']]"
      ],
      "metadata": {
        "colab": {
          "base_uri": "https://localhost:8080/",
          "height": 1000
        },
        "id": "VUIeXNZi4v0o",
        "outputId": "9657422d-5d67-46e1-bba7-aa42e2618654"
      },
      "execution_count": null,
      "outputs": [
        {
          "output_type": "execute_result",
          "data": {
            "text/plain": [
              "        IATA_CODE ORIGIN_AIRPORT DESTINATION_AIRPORT  \\\n",
              "0             ABE            ATL                 ABE   \n",
              "1             ABE            ATL                 ABE   \n",
              "2             ABE            ATL                 ABE   \n",
              "3             ABE            ATL                 ABE   \n",
              "4             ABE            ATL                 ABE   \n",
              "...           ...            ...                 ...   \n",
              "5332909       YUM            PHX                 YUM   \n",
              "5332910       YUM            PHX                 YUM   \n",
              "5332911       YUM            PHX                 YUM   \n",
              "5332912       YUM            PHX                 YUM   \n",
              "5332913       YUM            PHX                 YUM   \n",
              "\n",
              "                                   AIRPORT_x  \\\n",
              "0        Lehigh Valley International Airport   \n",
              "1        Lehigh Valley International Airport   \n",
              "2        Lehigh Valley International Airport   \n",
              "3        Lehigh Valley International Airport   \n",
              "4        Lehigh Valley International Airport   \n",
              "...                                      ...   \n",
              "5332909           Yuma International Airport   \n",
              "5332910           Yuma International Airport   \n",
              "5332911           Yuma International Airport   \n",
              "5332912           Yuma International Airport   \n",
              "5332913           Yuma International Airport   \n",
              "\n",
              "                                                AIRPORT_y  \n",
              "0        Hartsfield-Jackson Atlanta International Airport  \n",
              "1        Hartsfield-Jackson Atlanta International Airport  \n",
              "2        Hartsfield-Jackson Atlanta International Airport  \n",
              "3        Hartsfield-Jackson Atlanta International Airport  \n",
              "4        Hartsfield-Jackson Atlanta International Airport  \n",
              "...                                                   ...  \n",
              "5332909          Phoenix Sky Harbor International Airport  \n",
              "5332910          Phoenix Sky Harbor International Airport  \n",
              "5332911          Phoenix Sky Harbor International Airport  \n",
              "5332912          Phoenix Sky Harbor International Airport  \n",
              "5332913          Phoenix Sky Harbor International Airport  \n",
              "\n",
              "[5332914 rows x 5 columns]"
            ],
            "text/html": [
              "\n",
              "  <div id=\"df-b341028e-711a-41a8-b4cf-03ee6bf571c6\">\n",
              "    <div class=\"colab-df-container\">\n",
              "      <div>\n",
              "<style scoped>\n",
              "    .dataframe tbody tr th:only-of-type {\n",
              "        vertical-align: middle;\n",
              "    }\n",
              "\n",
              "    .dataframe tbody tr th {\n",
              "        vertical-align: top;\n",
              "    }\n",
              "\n",
              "    .dataframe thead th {\n",
              "        text-align: right;\n",
              "    }\n",
              "</style>\n",
              "<table border=\"1\" class=\"dataframe\">\n",
              "  <thead>\n",
              "    <tr style=\"text-align: right;\">\n",
              "      <th></th>\n",
              "      <th>IATA_CODE</th>\n",
              "      <th>ORIGIN_AIRPORT</th>\n",
              "      <th>DESTINATION_AIRPORT</th>\n",
              "      <th>AIRPORT_x</th>\n",
              "      <th>AIRPORT_y</th>\n",
              "    </tr>\n",
              "  </thead>\n",
              "  <tbody>\n",
              "    <tr>\n",
              "      <th>0</th>\n",
              "      <td>ABE</td>\n",
              "      <td>ATL</td>\n",
              "      <td>ABE</td>\n",
              "      <td>Lehigh Valley International Airport</td>\n",
              "      <td>Hartsfield-Jackson Atlanta International Airport</td>\n",
              "    </tr>\n",
              "    <tr>\n",
              "      <th>1</th>\n",
              "      <td>ABE</td>\n",
              "      <td>ATL</td>\n",
              "      <td>ABE</td>\n",
              "      <td>Lehigh Valley International Airport</td>\n",
              "      <td>Hartsfield-Jackson Atlanta International Airport</td>\n",
              "    </tr>\n",
              "    <tr>\n",
              "      <th>2</th>\n",
              "      <td>ABE</td>\n",
              "      <td>ATL</td>\n",
              "      <td>ABE</td>\n",
              "      <td>Lehigh Valley International Airport</td>\n",
              "      <td>Hartsfield-Jackson Atlanta International Airport</td>\n",
              "    </tr>\n",
              "    <tr>\n",
              "      <th>3</th>\n",
              "      <td>ABE</td>\n",
              "      <td>ATL</td>\n",
              "      <td>ABE</td>\n",
              "      <td>Lehigh Valley International Airport</td>\n",
              "      <td>Hartsfield-Jackson Atlanta International Airport</td>\n",
              "    </tr>\n",
              "    <tr>\n",
              "      <th>4</th>\n",
              "      <td>ABE</td>\n",
              "      <td>ATL</td>\n",
              "      <td>ABE</td>\n",
              "      <td>Lehigh Valley International Airport</td>\n",
              "      <td>Hartsfield-Jackson Atlanta International Airport</td>\n",
              "    </tr>\n",
              "    <tr>\n",
              "      <th>...</th>\n",
              "      <td>...</td>\n",
              "      <td>...</td>\n",
              "      <td>...</td>\n",
              "      <td>...</td>\n",
              "      <td>...</td>\n",
              "    </tr>\n",
              "    <tr>\n",
              "      <th>5332909</th>\n",
              "      <td>YUM</td>\n",
              "      <td>PHX</td>\n",
              "      <td>YUM</td>\n",
              "      <td>Yuma International Airport</td>\n",
              "      <td>Phoenix Sky Harbor International Airport</td>\n",
              "    </tr>\n",
              "    <tr>\n",
              "      <th>5332910</th>\n",
              "      <td>YUM</td>\n",
              "      <td>PHX</td>\n",
              "      <td>YUM</td>\n",
              "      <td>Yuma International Airport</td>\n",
              "      <td>Phoenix Sky Harbor International Airport</td>\n",
              "    </tr>\n",
              "    <tr>\n",
              "      <th>5332911</th>\n",
              "      <td>YUM</td>\n",
              "      <td>PHX</td>\n",
              "      <td>YUM</td>\n",
              "      <td>Yuma International Airport</td>\n",
              "      <td>Phoenix Sky Harbor International Airport</td>\n",
              "    </tr>\n",
              "    <tr>\n",
              "      <th>5332912</th>\n",
              "      <td>YUM</td>\n",
              "      <td>PHX</td>\n",
              "      <td>YUM</td>\n",
              "      <td>Yuma International Airport</td>\n",
              "      <td>Phoenix Sky Harbor International Airport</td>\n",
              "    </tr>\n",
              "    <tr>\n",
              "      <th>5332913</th>\n",
              "      <td>YUM</td>\n",
              "      <td>PHX</td>\n",
              "      <td>YUM</td>\n",
              "      <td>Yuma International Airport</td>\n",
              "      <td>Phoenix Sky Harbor International Airport</td>\n",
              "    </tr>\n",
              "  </tbody>\n",
              "</table>\n",
              "<p>5332914 rows × 5 columns</p>\n",
              "</div>\n",
              "      <button class=\"colab-df-convert\" onclick=\"convertToInteractive('df-b341028e-711a-41a8-b4cf-03ee6bf571c6')\"\n",
              "              title=\"Convert this dataframe to an interactive table.\"\n",
              "              style=\"display:none;\">\n",
              "        \n",
              "  <svg xmlns=\"http://www.w3.org/2000/svg\" height=\"24px\"viewBox=\"0 0 24 24\"\n",
              "       width=\"24px\">\n",
              "    <path d=\"M0 0h24v24H0V0z\" fill=\"none\"/>\n",
              "    <path d=\"M18.56 5.44l.94 2.06.94-2.06 2.06-.94-2.06-.94-.94-2.06-.94 2.06-2.06.94zm-11 1L8.5 8.5l.94-2.06 2.06-.94-2.06-.94L8.5 2.5l-.94 2.06-2.06.94zm10 10l.94 2.06.94-2.06 2.06-.94-2.06-.94-.94-2.06-.94 2.06-2.06.94z\"/><path d=\"M17.41 7.96l-1.37-1.37c-.4-.4-.92-.59-1.43-.59-.52 0-1.04.2-1.43.59L10.3 9.45l-7.72 7.72c-.78.78-.78 2.05 0 2.83L4 21.41c.39.39.9.59 1.41.59.51 0 1.02-.2 1.41-.59l7.78-7.78 2.81-2.81c.8-.78.8-2.07 0-2.86zM5.41 20L4 18.59l7.72-7.72 1.47 1.35L5.41 20z\"/>\n",
              "  </svg>\n",
              "      </button>\n",
              "      \n",
              "  <style>\n",
              "    .colab-df-container {\n",
              "      display:flex;\n",
              "      flex-wrap:wrap;\n",
              "      gap: 12px;\n",
              "    }\n",
              "\n",
              "    .colab-df-convert {\n",
              "      background-color: #E8F0FE;\n",
              "      border: none;\n",
              "      border-radius: 50%;\n",
              "      cursor: pointer;\n",
              "      display: none;\n",
              "      fill: #1967D2;\n",
              "      height: 32px;\n",
              "      padding: 0 0 0 0;\n",
              "      width: 32px;\n",
              "    }\n",
              "\n",
              "    .colab-df-convert:hover {\n",
              "      background-color: #E2EBFA;\n",
              "      box-shadow: 0px 1px 2px rgba(60, 64, 67, 0.3), 0px 1px 3px 1px rgba(60, 64, 67, 0.15);\n",
              "      fill: #174EA6;\n",
              "    }\n",
              "\n",
              "    [theme=dark] .colab-df-convert {\n",
              "      background-color: #3B4455;\n",
              "      fill: #D2E3FC;\n",
              "    }\n",
              "\n",
              "    [theme=dark] .colab-df-convert:hover {\n",
              "      background-color: #434B5C;\n",
              "      box-shadow: 0px 1px 3px 1px rgba(0, 0, 0, 0.15);\n",
              "      filter: drop-shadow(0px 1px 2px rgba(0, 0, 0, 0.3));\n",
              "      fill: #FFFFFF;\n",
              "    }\n",
              "  </style>\n",
              "\n",
              "      <script>\n",
              "        const buttonEl =\n",
              "          document.querySelector('#df-b341028e-711a-41a8-b4cf-03ee6bf571c6 button.colab-df-convert');\n",
              "        buttonEl.style.display =\n",
              "          google.colab.kernel.accessAllowed ? 'block' : 'none';\n",
              "\n",
              "        async function convertToInteractive(key) {\n",
              "          const element = document.querySelector('#df-b341028e-711a-41a8-b4cf-03ee6bf571c6');\n",
              "          const dataTable =\n",
              "            await google.colab.kernel.invokeFunction('convertToInteractive',\n",
              "                                                     [key], {});\n",
              "          if (!dataTable) return;\n",
              "\n",
              "          const docLinkHtml = 'Like what you see? Visit the ' +\n",
              "            '<a target=\"_blank\" href=https://colab.research.google.com/notebooks/data_table.ipynb>data table notebook</a>'\n",
              "            + ' to learn more about interactive tables.';\n",
              "          element.innerHTML = '';\n",
              "          dataTable['output_type'] = 'display_data';\n",
              "          await google.colab.output.renderOutput(dataTable, element);\n",
              "          const docLink = document.createElement('div');\n",
              "          docLink.innerHTML = docLinkHtml;\n",
              "          element.appendChild(docLink);\n",
              "        }\n",
              "      </script>\n",
              "    </div>\n",
              "  </div>\n",
              "  "
            ]
          },
          "metadata": {},
          "execution_count": 20
        }
      ]
    },
    {
      "cell_type": "markdown",
      "source": [
        "We've identified that 'AIRPORT_y' is the destination and 'AIRPORT_x' is the origin "
      ],
      "metadata": {
        "id": "An050cyY8AAQ"
      }
    },
    {
      "cell_type": "code",
      "source": [
        "df1[['AIRLINE_x', 'AIRLINE_y']]"
      ],
      "metadata": {
        "colab": {
          "base_uri": "https://localhost:8080/",
          "height": 749
        },
        "id": "fTMKPj3UNNDE",
        "outputId": "753562be-426b-43ac-fb9d-329afc2f9b1b"
      },
      "execution_count": null,
      "outputs": [
        {
          "output_type": "execute_result",
          "data": {
            "text/plain": [
              "                     AIRLINE_x AIRLINE_y\n",
              "0         Delta Air Lines Inc.        DL\n",
              "1         Delta Air Lines Inc.        DL\n",
              "2         Delta Air Lines Inc.        DL\n",
              "3         Delta Air Lines Inc.        DL\n",
              "4         Delta Air Lines Inc.        DL\n",
              "...                        ...       ...\n",
              "5332909  Skywest Airlines Inc.        OO\n",
              "5332910  Skywest Airlines Inc.        OO\n",
              "5332911  Skywest Airlines Inc.        OO\n",
              "5332912  Skywest Airlines Inc.        OO\n",
              "5332913  Skywest Airlines Inc.        OO\n",
              "\n",
              "[5332914 rows x 2 columns]"
            ],
            "text/html": [
              "\n",
              "  <div id=\"df-3309efd7-a104-4ac5-ac11-28bcc9092e7b\">\n",
              "    <div class=\"colab-df-container\">\n",
              "      <div>\n",
              "<style scoped>\n",
              "    .dataframe tbody tr th:only-of-type {\n",
              "        vertical-align: middle;\n",
              "    }\n",
              "\n",
              "    .dataframe tbody tr th {\n",
              "        vertical-align: top;\n",
              "    }\n",
              "\n",
              "    .dataframe thead th {\n",
              "        text-align: right;\n",
              "    }\n",
              "</style>\n",
              "<table border=\"1\" class=\"dataframe\">\n",
              "  <thead>\n",
              "    <tr style=\"text-align: right;\">\n",
              "      <th></th>\n",
              "      <th>AIRLINE_x</th>\n",
              "      <th>AIRLINE_y</th>\n",
              "    </tr>\n",
              "  </thead>\n",
              "  <tbody>\n",
              "    <tr>\n",
              "      <th>0</th>\n",
              "      <td>Delta Air Lines Inc.</td>\n",
              "      <td>DL</td>\n",
              "    </tr>\n",
              "    <tr>\n",
              "      <th>1</th>\n",
              "      <td>Delta Air Lines Inc.</td>\n",
              "      <td>DL</td>\n",
              "    </tr>\n",
              "    <tr>\n",
              "      <th>2</th>\n",
              "      <td>Delta Air Lines Inc.</td>\n",
              "      <td>DL</td>\n",
              "    </tr>\n",
              "    <tr>\n",
              "      <th>3</th>\n",
              "      <td>Delta Air Lines Inc.</td>\n",
              "      <td>DL</td>\n",
              "    </tr>\n",
              "    <tr>\n",
              "      <th>4</th>\n",
              "      <td>Delta Air Lines Inc.</td>\n",
              "      <td>DL</td>\n",
              "    </tr>\n",
              "    <tr>\n",
              "      <th>...</th>\n",
              "      <td>...</td>\n",
              "      <td>...</td>\n",
              "    </tr>\n",
              "    <tr>\n",
              "      <th>5332909</th>\n",
              "      <td>Skywest Airlines Inc.</td>\n",
              "      <td>OO</td>\n",
              "    </tr>\n",
              "    <tr>\n",
              "      <th>5332910</th>\n",
              "      <td>Skywest Airlines Inc.</td>\n",
              "      <td>OO</td>\n",
              "    </tr>\n",
              "    <tr>\n",
              "      <th>5332911</th>\n",
              "      <td>Skywest Airlines Inc.</td>\n",
              "      <td>OO</td>\n",
              "    </tr>\n",
              "    <tr>\n",
              "      <th>5332912</th>\n",
              "      <td>Skywest Airlines Inc.</td>\n",
              "      <td>OO</td>\n",
              "    </tr>\n",
              "    <tr>\n",
              "      <th>5332913</th>\n",
              "      <td>Skywest Airlines Inc.</td>\n",
              "      <td>OO</td>\n",
              "    </tr>\n",
              "  </tbody>\n",
              "</table>\n",
              "<p>5332914 rows × 2 columns</p>\n",
              "</div>\n",
              "      <button class=\"colab-df-convert\" onclick=\"convertToInteractive('df-3309efd7-a104-4ac5-ac11-28bcc9092e7b')\"\n",
              "              title=\"Convert this dataframe to an interactive table.\"\n",
              "              style=\"display:none;\">\n",
              "        \n",
              "  <svg xmlns=\"http://www.w3.org/2000/svg\" height=\"24px\"viewBox=\"0 0 24 24\"\n",
              "       width=\"24px\">\n",
              "    <path d=\"M0 0h24v24H0V0z\" fill=\"none\"/>\n",
              "    <path d=\"M18.56 5.44l.94 2.06.94-2.06 2.06-.94-2.06-.94-.94-2.06-.94 2.06-2.06.94zm-11 1L8.5 8.5l.94-2.06 2.06-.94-2.06-.94L8.5 2.5l-.94 2.06-2.06.94zm10 10l.94 2.06.94-2.06 2.06-.94-2.06-.94-.94-2.06-.94 2.06-2.06.94z\"/><path d=\"M17.41 7.96l-1.37-1.37c-.4-.4-.92-.59-1.43-.59-.52 0-1.04.2-1.43.59L10.3 9.45l-7.72 7.72c-.78.78-.78 2.05 0 2.83L4 21.41c.39.39.9.59 1.41.59.51 0 1.02-.2 1.41-.59l7.78-7.78 2.81-2.81c.8-.78.8-2.07 0-2.86zM5.41 20L4 18.59l7.72-7.72 1.47 1.35L5.41 20z\"/>\n",
              "  </svg>\n",
              "      </button>\n",
              "      \n",
              "  <style>\n",
              "    .colab-df-container {\n",
              "      display:flex;\n",
              "      flex-wrap:wrap;\n",
              "      gap: 12px;\n",
              "    }\n",
              "\n",
              "    .colab-df-convert {\n",
              "      background-color: #E8F0FE;\n",
              "      border: none;\n",
              "      border-radius: 50%;\n",
              "      cursor: pointer;\n",
              "      display: none;\n",
              "      fill: #1967D2;\n",
              "      height: 32px;\n",
              "      padding: 0 0 0 0;\n",
              "      width: 32px;\n",
              "    }\n",
              "\n",
              "    .colab-df-convert:hover {\n",
              "      background-color: #E2EBFA;\n",
              "      box-shadow: 0px 1px 2px rgba(60, 64, 67, 0.3), 0px 1px 3px 1px rgba(60, 64, 67, 0.15);\n",
              "      fill: #174EA6;\n",
              "    }\n",
              "\n",
              "    [theme=dark] .colab-df-convert {\n",
              "      background-color: #3B4455;\n",
              "      fill: #D2E3FC;\n",
              "    }\n",
              "\n",
              "    [theme=dark] .colab-df-convert:hover {\n",
              "      background-color: #434B5C;\n",
              "      box-shadow: 0px 1px 3px 1px rgba(0, 0, 0, 0.15);\n",
              "      filter: drop-shadow(0px 1px 2px rgba(0, 0, 0, 0.3));\n",
              "      fill: #FFFFFF;\n",
              "    }\n",
              "  </style>\n",
              "\n",
              "      <script>\n",
              "        const buttonEl =\n",
              "          document.querySelector('#df-3309efd7-a104-4ac5-ac11-28bcc9092e7b button.colab-df-convert');\n",
              "        buttonEl.style.display =\n",
              "          google.colab.kernel.accessAllowed ? 'block' : 'none';\n",
              "\n",
              "        async function convertToInteractive(key) {\n",
              "          const element = document.querySelector('#df-3309efd7-a104-4ac5-ac11-28bcc9092e7b');\n",
              "          const dataTable =\n",
              "            await google.colab.kernel.invokeFunction('convertToInteractive',\n",
              "                                                     [key], {});\n",
              "          if (!dataTable) return;\n",
              "\n",
              "          const docLinkHtml = 'Like what you see? Visit the ' +\n",
              "            '<a target=\"_blank\" href=https://colab.research.google.com/notebooks/data_table.ipynb>data table notebook</a>'\n",
              "            + ' to learn more about interactive tables.';\n",
              "          element.innerHTML = '';\n",
              "          dataTable['output_type'] = 'display_data';\n",
              "          await google.colab.output.renderOutput(dataTable, element);\n",
              "          const docLink = document.createElement('div');\n",
              "          docLink.innerHTML = docLinkHtml;\n",
              "          element.appendChild(docLink);\n",
              "        }\n",
              "      </script>\n",
              "    </div>\n",
              "  </div>\n",
              "  "
            ]
          },
          "metadata": {},
          "execution_count": 21
        }
      ]
    },
    {
      "cell_type": "markdown",
      "source": [
        "We've identified that AIRPORT_y is the IATA_CODE"
      ],
      "metadata": {
        "id": "UVTKyTxpO3Cr"
      }
    },
    {
      "cell_type": "code",
      "source": [
        "df1.shape"
      ],
      "metadata": {
        "colab": {
          "base_uri": "https://localhost:8080/"
        },
        "id": "9_2A_ytun5Ib",
        "outputId": "8a2a1cf3-1e1e-43e3-d521-a8cc4f1205f6"
      },
      "execution_count": null,
      "outputs": [
        {
          "output_type": "execute_result",
          "data": {
            "text/plain": [
              "(5332914, 47)"
            ]
          },
          "metadata": {},
          "execution_count": 22
        }
      ]
    },
    {
      "cell_type": "markdown",
      "source": [
        "##Data Cleaning 🧹"
      ],
      "metadata": {
        "id": "jRrmYxTwn7Xp"
      }
    },
    {
      "cell_type": "markdown",
      "source": [
        "We need to check for outliers, duplicates, null values,  change the columns names, drop the useless columns."
      ],
      "metadata": {
        "id": "UUoKOo4xFhBZ"
      }
    },
    {
      "cell_type": "code",
      "source": [
        "df1.rename(columns = {'AIRPORT_y':'DEST_AIRPORT', 'AIRPORT_x':'ORG_AIRPORT', 'CITY_y':'DEST_CITY',\n",
        "                      'CITY_x':'ORG_CITY', 'STATE_y':'DEST_STATE', 'STATE_x':'ORG_STATE', 'LATITUDE_y':'DEST_LATITUDE',\n",
        "                      'LATITUDE_x':'ORG_LATITUDE', 'LONGITUDE_y':'DEST_LONGITUDE', 'LONGITUDE_x':'ORG_LONGITUDE', \n",
        "                      'AIRLINE_x':'AIRLINE'}, inplace = True)\n",
        "df1.drop(['COUNTRY_x', 'COUNTRY_y', 'IATA_CODE_x', 'IATA_CODE_y', 'AIRLINE_y', 'IATA_CODE', 'DESTINATION_AIRPORT', 'ORIGIN_AIRPORT'], axis=1, inplace = True)"
      ],
      "metadata": {
        "id": "XofTiqo1GW8U"
      },
      "execution_count": null,
      "outputs": []
    },
    {
      "cell_type": "code",
      "source": [
        "#plt.figure(figsize=(9,3),dpi=100)\n",
        "#sns.heatmap(df1.isnull())"
      ],
      "metadata": {
        "id": "zPK0vX5aUZSd"
      },
      "execution_count": null,
      "outputs": []
    },
    {
      "cell_type": "code",
      "source": [
        "print(df1.isnull().sum()*100/len(df1))"
      ],
      "metadata": {
        "colab": {
          "base_uri": "https://localhost:8080/"
        },
        "id": "yvx9F9LcVNRF",
        "outputId": "44282817-9688-4b3d-f741-c9d8c4b1ad92"
      },
      "execution_count": null,
      "outputs": [
        {
          "output_type": "stream",
          "name": "stdout",
          "text": [
            "ORG_AIRPORT             0.000000\n",
            "ORG_CITY                0.000000\n",
            "ORG_STATE               0.000000\n",
            "ORG_LATITUDE            0.086444\n",
            "ORG_LONGITUDE           0.086444\n",
            "DEST_AIRPORT            0.000000\n",
            "DEST_CITY               0.000000\n",
            "DEST_STATE              0.000000\n",
            "DEST_LATITUDE           0.086351\n",
            "DEST_LONGITUDE          0.086351\n",
            "AIRLINE                 0.000000\n",
            "YEAR                    0.000000\n",
            "MONTH                   0.000000\n",
            "DAY                     0.000000\n",
            "DAY_OF_WEEK             0.000000\n",
            "FLIGHT_NUMBER           0.000000\n",
            "TAIL_NUMBER             0.269402\n",
            "SCHEDULED_DEPARTURE     0.000000\n",
            "DEPARTURE_TIME          1.571636\n",
            "DEPARTURE_DELAY         1.571636\n",
            "TAXI_OUT                1.624103\n",
            "WHEELS_OFF              1.624103\n",
            "SCHEDULED_TIME          0.000113\n",
            "ELAPSED_TIME            1.908600\n",
            "AIR_TIME                1.908600\n",
            "DISTANCE                0.000000\n",
            "WHEELS_ON               1.686545\n",
            "TAXI_IN                 1.686545\n",
            "SCHEDULED_ARRIVAL       0.000000\n",
            "ARRIVAL_TIME            1.686545\n",
            "ARRIVAL_DELAY           1.908600\n",
            "DIVERTED                0.000000\n",
            "CANCELLED               0.000000\n",
            "CANCELLATION_REASON    98.360559\n",
            "AIR_SYSTEM_DELAY       81.185521\n",
            "SECURITY_DELAY         81.185521\n",
            "AIRLINE_DELAY          81.185521\n",
            "LATE_AIRCRAFT_DELAY    81.185521\n",
            "WEATHER_DELAY          81.185521\n",
            "dtype: float64\n"
          ]
        }
      ]
    },
    {
      "cell_type": "markdown",
      "source": [
        "We're going to drop all the rows that have any null values, since all of the values are only a small percentage and drop any columns with above 80% null values. "
      ],
      "metadata": {
        "id": "jXdvld6t1zSy"
      }
    },
    {
      "cell_type": "code",
      "source": [
        "print(\"Dataframe Shape Before:\", df1.shape)\n",
        "df1 = df1.dropna(axis='columns', thresh = int(0.8 * len(df1)))\n",
        "print(\"Dataframe Shape After:\", df1.shape)"
      ],
      "metadata": {
        "colab": {
          "base_uri": "https://localhost:8080/"
        },
        "id": "4sExa_r-WEpe",
        "outputId": "f7f93894-e6d1-4fd3-d079-49bf28f33241"
      },
      "execution_count": null,
      "outputs": [
        {
          "output_type": "stream",
          "name": "stdout",
          "text": [
            "Dataframe Shape Before: (5332914, 39)\n",
            "Dataframe Shape After: (5332914, 33)\n"
          ]
        }
      ]
    },
    {
      "cell_type": "code",
      "source": [
        "df1['CANCELLED'].value_counts()"
      ],
      "metadata": {
        "colab": {
          "base_uri": "https://localhost:8080/"
        },
        "id": "TqqP0PZVXQXo",
        "outputId": "39623091-fada-4ebe-a986-80b2ec72db66"
      },
      "execution_count": null,
      "outputs": [
        {
          "output_type": "execute_result",
          "data": {
            "text/plain": [
              "0    5245484\n",
              "1      87430\n",
              "Name: CANCELLED, dtype: int64"
            ]
          },
          "metadata": {},
          "execution_count": 27
        }
      ]
    },
    {
      "cell_type": "markdown",
      "source": [
        "We're going to drop any rows that have a null value since the rest of the columns have on average 1% missing values. "
      ],
      "metadata": {
        "id": "cQfEzfwMF-1L"
      }
    },
    {
      "cell_type": "code",
      "source": [
        "print(\"Dataframe Shape Before:\", df1.shape)\n",
        "df1 = df1.dropna()\n",
        "print(\"Dataframe Shape Before:\", df1.shape)"
      ],
      "metadata": {
        "colab": {
          "base_uri": "https://localhost:8080/"
        },
        "id": "761GtHV1E_rY",
        "outputId": "5f69a6b9-64df-4eca-8ec8-61f07be8df74"
      },
      "execution_count": null,
      "outputs": [
        {
          "output_type": "stream",
          "name": "stdout",
          "text": [
            "Dataframe Shape Before: (5332914, 33)\n",
            "Dataframe Shape Before: (5222000, 33)\n"
          ]
        }
      ]
    },
    {
      "cell_type": "markdown",
      "source": [
        "###Outliers"
      ],
      "metadata": {
        "id": "2_B1D2yxPfnW"
      }
    },
    {
      "cell_type": "code",
      "source": [
        "fig = plt.figure(figsize=(15,8))\n",
        "sns.boxplot(x=df1['DISTANCE'])"
      ],
      "metadata": {
        "colab": {
          "base_uri": "https://localhost:8080/",
          "height": 514
        },
        "id": "Ngy2mUDkPivy",
        "outputId": "ae350604-bdd3-4ece-e699-d65744400bbb"
      },
      "execution_count": null,
      "outputs": [
        {
          "output_type": "execute_result",
          "data": {
            "text/plain": [
              "<matplotlib.axes._subplots.AxesSubplot at 0x7fb233afd100>"
            ]
          },
          "metadata": {},
          "execution_count": 103
        },
        {
          "output_type": "display_data",
          "data": {
            "text/plain": [
              "<Figure size 1080x576 with 1 Axes>"
            ],
            "image/png": "[encoded data removed]"
          },
          "metadata": {
            "needs_background": "light"
          }
        }
      ]
    },
    {
      "cell_type": "code",
      "source": [
        "fig = plt.figure(figsize=(15,8))\n",
        "sns.boxplot(x=df1['SCHEDULED_ARRIVAL'])"
      ],
      "metadata": {
        "colab": {
          "base_uri": "https://localhost:8080/",
          "height": 515
        },
        "id": "Y9zFgoc7QBTx",
        "outputId": "87ac4aee-4719-417c-80e3-d7cde548ef3d"
      },
      "execution_count": null,
      "outputs": [
        {
          "output_type": "execute_result",
          "data": {
            "text/plain": [
              "<matplotlib.axes._subplots.AxesSubplot at 0x7fb2337e9eb0>"
            ]
          },
          "metadata": {},
          "execution_count": 105
        },
        {
          "output_type": "display_data",
          "data": {
            "text/plain": [
              "<Figure size 1080x576 with 1 Axes>"
            ],
            "image/png": "[encoded data removed]"
          },
          "metadata": {
            "needs_background": "light"
          }
        }
      ]
    },
    {
      "cell_type": "markdown",
      "source": [
        "The distance boxplot have a lot of flights that are out of range however those points don't seem to be outliers becasue a box plot's simplicity also sets limitations on the density of data that it can show. With a box plot, we miss out on the ability to observe the detailed shape of distribution, such as if there are oddities in a distribution's modality (number of 'humps' or peaks) and skew. "
      ],
      "metadata": {
        "id": "H5LbScj4Wt2b"
      }
    },
    {
      "cell_type": "markdown",
      "source": [
        "Final Dataframe"
      ],
      "metadata": {
        "id": "hZI_p01QIqFi"
      }
    },
    {
      "cell_type": "code",
      "source": [
        "df1.head()"
      ],
      "metadata": {
        "colab": {
          "base_uri": "https://localhost:8080/",
          "height": 647
        },
        "id": "ctr1fAIlIsug",
        "outputId": "0c409338-092b-4f15-f032-e4a9be6fdb50"
      },
      "execution_count": null,
      "outputs": [
        {
          "output_type": "execute_result",
          "data": {
            "text/plain": [
              "                           ORG_AIRPORT   ORG_CITY ORG_STATE  ORG_LATITUDE  \\\n",
              "0  Lehigh Valley International Airport  Allentown        PA      40.65236   \n",
              "1  Lehigh Valley International Airport  Allentown        PA      40.65236   \n",
              "2  Lehigh Valley International Airport  Allentown        PA      40.65236   \n",
              "3  Lehigh Valley International Airport  Allentown        PA      40.65236   \n",
              "4  Lehigh Valley International Airport  Allentown        PA      40.65236   \n",
              "\n",
              "   ORG_LONGITUDE                                      DEST_AIRPORT DEST_CITY  \\\n",
              "0       -75.4404  Hartsfield-Jackson Atlanta International Airport   Atlanta   \n",
              "1       -75.4404  Hartsfield-Jackson Atlanta International Airport   Atlanta   \n",
              "2       -75.4404  Hartsfield-Jackson Atlanta International Airport   Atlanta   \n",
              "3       -75.4404  Hartsfield-Jackson Atlanta International Airport   Atlanta   \n",
              "4       -75.4404  Hartsfield-Jackson Atlanta International Airport   Atlanta   \n",
              "\n",
              "  DEST_STATE  DEST_LATITUDE  DEST_LONGITUDE  ... ELAPSED_TIME  AIR_TIME  \\\n",
              "0         GA       33.64044       -84.42694  ...        111.0      85.0   \n",
              "1         GA       33.64044       -84.42694  ...        115.0      93.0   \n",
              "2         GA       33.64044       -84.42694  ...        109.0      93.0   \n",
              "3         GA       33.64044       -84.42694  ...        115.0      97.0   \n",
              "4         GA       33.64044       -84.42694  ...        113.0      89.0   \n",
              "\n",
              "   DISTANCE  WHEELS_ON  TAXI_IN  SCHEDULED_ARRIVAL ARRIVAL_TIME  \\\n",
              "0       692     2248.0      4.0               2251       2252.0   \n",
              "1       692     2222.0      5.0               2225       2227.0   \n",
              "2       692     2217.0      4.0               2225       2221.0   \n",
              "3       692     2222.0      4.0               2225       2226.0   \n",
              "4       692     2219.0      4.0               2225       2223.0   \n",
              "\n",
              "   ARRIVAL_DELAY  DIVERTED  CANCELLED  \n",
              "0            1.0         0          0  \n",
              "1            2.0         0          0  \n",
              "2           -4.0         0          0  \n",
              "3            1.0         0          0  \n",
              "4           -2.0         0          0  \n",
              "\n",
              "[5 rows x 33 columns]"
            ],
            "text/html": [
              "\n",
              "  <div id=\"df-2c87bbb0-0e06-4ba4-a5ac-c69d00efea6b\">\n",
              "    <div class=\"colab-df-container\">\n",
              "      <div>\n",
              "<style scoped>\n",
              "    .dataframe tbody tr th:only-of-type {\n",
              "        vertical-align: middle;\n",
              "    }\n",
              "\n",
              "    .dataframe tbody tr th {\n",
              "        vertical-align: top;\n",
              "    }\n",
              "\n",
              "    .dataframe thead th {\n",
              "        text-align: right;\n",
              "    }\n",
              "</style>\n",
              "<table border=\"1\" class=\"dataframe\">\n",
              "  <thead>\n",
              "    <tr style=\"text-align: right;\">\n",
              "      <th></th>\n",
              "      <th>ORG_AIRPORT</th>\n",
              "      <th>ORG_CITY</th>\n",
              "      <th>ORG_STATE</th>\n",
              "      <th>ORG_LATITUDE</th>\n",
              "      <th>ORG_LONGITUDE</th>\n",
              "      <th>DEST_AIRPORT</th>\n",
              "      <th>DEST_CITY</th>\n",
              "      <th>DEST_STATE</th>\n",
              "      <th>DEST_LATITUDE</th>\n",
              "      <th>DEST_LONGITUDE</th>\n",
              "      <th>...</th>\n",
              "      <th>ELAPSED_TIME</th>\n",
              "      <th>AIR_TIME</th>\n",
              "      <th>DISTANCE</th>\n",
              "      <th>WHEELS_ON</th>\n",
              "      <th>TAXI_IN</th>\n",
              "      <th>SCHEDULED_ARRIVAL</th>\n",
              "      <th>ARRIVAL_TIME</th>\n",
              "      <th>ARRIVAL_DELAY</th>\n",
              "      <th>DIVERTED</th>\n",
              "      <th>CANCELLED</th>\n",
              "    </tr>\n",
              "  </thead>\n",
              "  <tbody>\n",
              "    <tr>\n",
              "      <th>0</th>\n",
              "      <td>Lehigh Valley International Airport</td>\n",
              "      <td>Allentown</td>\n",
              "      <td>PA</td>\n",
              "      <td>40.65236</td>\n",
              "      <td>-75.4404</td>\n",
              "      <td>Hartsfield-Jackson Atlanta International Airport</td>\n",
              "      <td>Atlanta</td>\n",
              "      <td>GA</td>\n",
              "      <td>33.64044</td>\n",
              "      <td>-84.42694</td>\n",
              "      <td>...</td>\n",
              "      <td>111.0</td>\n",
              "      <td>85.0</td>\n",
              "      <td>692</td>\n",
              "      <td>2248.0</td>\n",
              "      <td>4.0</td>\n",
              "      <td>2251</td>\n",
              "      <td>2252.0</td>\n",
              "      <td>1.0</td>\n",
              "      <td>0</td>\n",
              "      <td>0</td>\n",
              "    </tr>\n",
              "    <tr>\n",
              "      <th>1</th>\n",
              "      <td>Lehigh Valley International Airport</td>\n",
              "      <td>Allentown</td>\n",
              "      <td>PA</td>\n",
              "      <td>40.65236</td>\n",
              "      <td>-75.4404</td>\n",
              "      <td>Hartsfield-Jackson Atlanta International Airport</td>\n",
              "      <td>Atlanta</td>\n",
              "      <td>GA</td>\n",
              "      <td>33.64044</td>\n",
              "      <td>-84.42694</td>\n",
              "      <td>...</td>\n",
              "      <td>115.0</td>\n",
              "      <td>93.0</td>\n",
              "      <td>692</td>\n",
              "      <td>2222.0</td>\n",
              "      <td>5.0</td>\n",
              "      <td>2225</td>\n",
              "      <td>2227.0</td>\n",
              "      <td>2.0</td>\n",
              "      <td>0</td>\n",
              "      <td>0</td>\n",
              "    </tr>\n",
              "    <tr>\n",
              "      <th>2</th>\n",
              "      <td>Lehigh Valley International Airport</td>\n",
              "      <td>Allentown</td>\n",
              "      <td>PA</td>\n",
              "      <td>40.65236</td>\n",
              "      <td>-75.4404</td>\n",
              "      <td>Hartsfield-Jackson Atlanta International Airport</td>\n",
              "      <td>Atlanta</td>\n",
              "      <td>GA</td>\n",
              "      <td>33.64044</td>\n",
              "      <td>-84.42694</td>\n",
              "      <td>...</td>\n",
              "      <td>109.0</td>\n",
              "      <td>93.0</td>\n",
              "      <td>692</td>\n",
              "      <td>2217.0</td>\n",
              "      <td>4.0</td>\n",
              "      <td>2225</td>\n",
              "      <td>2221.0</td>\n",
              "      <td>-4.0</td>\n",
              "      <td>0</td>\n",
              "      <td>0</td>\n",
              "    </tr>\n",
              "    <tr>\n",
              "      <th>3</th>\n",
              "      <td>Lehigh Valley International Airport</td>\n",
              "      <td>Allentown</td>\n",
              "      <td>PA</td>\n",
              "      <td>40.65236</td>\n",
              "      <td>-75.4404</td>\n",
              "      <td>Hartsfield-Jackson Atlanta International Airport</td>\n",
              "      <td>Atlanta</td>\n",
              "      <td>GA</td>\n",
              "      <td>33.64044</td>\n",
              "      <td>-84.42694</td>\n",
              "      <td>...</td>\n",
              "      <td>115.0</td>\n",
              "      <td>97.0</td>\n",
              "      <td>692</td>\n",
              "      <td>2222.0</td>\n",
              "      <td>4.0</td>\n",
              "      <td>2225</td>\n",
              "      <td>2226.0</td>\n",
              "      <td>1.0</td>\n",
              "      <td>0</td>\n",
              "      <td>0</td>\n",
              "    </tr>\n",
              "    <tr>\n",
              "      <th>4</th>\n",
              "      <td>Lehigh Valley International Airport</td>\n",
              "      <td>Allentown</td>\n",
              "      <td>PA</td>\n",
              "      <td>40.65236</td>\n",
              "      <td>-75.4404</td>\n",
              "      <td>Hartsfield-Jackson Atlanta International Airport</td>\n",
              "      <td>Atlanta</td>\n",
              "      <td>GA</td>\n",
              "      <td>33.64044</td>\n",
              "      <td>-84.42694</td>\n",
              "      <td>...</td>\n",
              "      <td>113.0</td>\n",
              "      <td>89.0</td>\n",
              "      <td>692</td>\n",
              "      <td>2219.0</td>\n",
              "      <td>4.0</td>\n",
              "      <td>2225</td>\n",
              "      <td>2223.0</td>\n",
              "      <td>-2.0</td>\n",
              "      <td>0</td>\n",
              "      <td>0</td>\n",
              "    </tr>\n",
              "  </tbody>\n",
              "</table>\n",
              "<p>5 rows × 33 columns</p>\n",
              "</div>\n",
              "      <button class=\"colab-df-convert\" onclick=\"convertToInteractive('df-2c87bbb0-0e06-4ba4-a5ac-c69d00efea6b')\"\n",
              "              title=\"Convert this dataframe to an interactive table.\"\n",
              "              style=\"display:none;\">\n",
              "        \n",
              "  <svg xmlns=\"http://www.w3.org/2000/svg\" height=\"24px\"viewBox=\"0 0 24 24\"\n",
              "       width=\"24px\">\n",
              "    <path d=\"M0 0h24v24H0V0z\" fill=\"none\"/>\n",
              "    <path d=\"M18.56 5.44l.94 2.06.94-2.06 2.06-.94-2.06-.94-.94-2.06-.94 2.06-2.06.94zm-11 1L8.5 8.5l.94-2.06 2.06-.94-2.06-.94L8.5 2.5l-.94 2.06-2.06.94zm10 10l.94 2.06.94-2.06 2.06-.94-2.06-.94-.94-2.06-.94 2.06-2.06.94z\"/><path d=\"M17.41 7.96l-1.37-1.37c-.4-.4-.92-.59-1.43-.59-.52 0-1.04.2-1.43.59L10.3 9.45l-7.72 7.72c-.78.78-.78 2.05 0 2.83L4 21.41c.39.39.9.59 1.41.59.51 0 1.02-.2 1.41-.59l7.78-7.78 2.81-2.81c.8-.78.8-2.07 0-2.86zM5.41 20L4 18.59l7.72-7.72 1.47 1.35L5.41 20z\"/>\n",
              "  </svg>\n",
              "      </button>\n",
              "      \n",
              "  <style>\n",
              "    .colab-df-container {\n",
              "      display:flex;\n",
              "      flex-wrap:wrap;\n",
              "      gap: 12px;\n",
              "    }\n",
              "\n",
              "    .colab-df-convert {\n",
              "      background-color: #E8F0FE;\n",
              "      border: none;\n",
              "      border-radius: 50%;\n",
              "      cursor: pointer;\n",
              "      display: none;\n",
              "      fill: #1967D2;\n",
              "      height: 32px;\n",
              "      padding: 0 0 0 0;\n",
              "      width: 32px;\n",
              "    }\n",
              "\n",
              "    .colab-df-convert:hover {\n",
              "      background-color: #E2EBFA;\n",
              "      box-shadow: 0px 1px 2px rgba(60, 64, 67, 0.3), 0px 1px 3px 1px rgba(60, 64, 67, 0.15);\n",
              "      fill: #174EA6;\n",
              "    }\n",
              "\n",
              "    [theme=dark] .colab-df-convert {\n",
              "      background-color: #3B4455;\n",
              "      fill: #D2E3FC;\n",
              "    }\n",
              "\n",
              "    [theme=dark] .colab-df-convert:hover {\n",
              "      background-color: #434B5C;\n",
              "      box-shadow: 0px 1px 3px 1px rgba(0, 0, 0, 0.15);\n",
              "      filter: drop-shadow(0px 1px 2px rgba(0, 0, 0, 0.3));\n",
              "      fill: #FFFFFF;\n",
              "    }\n",
              "  </style>\n",
              "\n",
              "      <script>\n",
              "        const buttonEl =\n",
              "          document.querySelector('#df-2c87bbb0-0e06-4ba4-a5ac-c69d00efea6b button.colab-df-convert');\n",
              "        buttonEl.style.display =\n",
              "          google.colab.kernel.accessAllowed ? 'block' : 'none';\n",
              "\n",
              "        async function convertToInteractive(key) {\n",
              "          const element = document.querySelector('#df-2c87bbb0-0e06-4ba4-a5ac-c69d00efea6b');\n",
              "          const dataTable =\n",
              "            await google.colab.kernel.invokeFunction('convertToInteractive',\n",
              "                                                     [key], {});\n",
              "          if (!dataTable) return;\n",
              "\n",
              "          const docLinkHtml = 'Like what you see? Visit the ' +\n",
              "            '<a target=\"_blank\" href=https://colab.research.google.com/notebooks/data_table.ipynb>data table notebook</a>'\n",
              "            + ' to learn more about interactive tables.';\n",
              "          element.innerHTML = '';\n",
              "          dataTable['output_type'] = 'display_data';\n",
              "          await google.colab.output.renderOutput(dataTable, element);\n",
              "          const docLink = document.createElement('div');\n",
              "          docLink.innerHTML = docLinkHtml;\n",
              "          element.appendChild(docLink);\n",
              "        }\n",
              "      </script>\n",
              "    </div>\n",
              "  </div>\n",
              "  "
            ]
          },
          "metadata": {},
          "execution_count": 29
        }
      ]
    },
    {
      "cell_type": "code",
      "source": [
        "df1.info()"
      ],
      "metadata": {
        "colab": {
          "base_uri": "https://localhost:8080/"
        },
        "id": "vlG5wQLDIujb",
        "outputId": "e9e2bc04-ace0-49a5-c073-a02eb4ec5c68"
      },
      "execution_count": null,
      "outputs": [
        {
          "output_type": "stream",
          "name": "stdout",
          "text": [
            "<class 'pandas.core.frame.DataFrame'>\n",
            "Int64Index: 5222000 entries, 0 to 5332913\n",
            "Data columns (total 33 columns):\n",
            " #   Column               Dtype  \n",
            "---  ------               -----  \n",
            " 0   ORG_AIRPORT          object \n",
            " 1   ORG_CITY             object \n",
            " 2   ORG_STATE            object \n",
            " 3   ORG_LATITUDE         float64\n",
            " 4   ORG_LONGITUDE        float64\n",
            " 5   DEST_AIRPORT         object \n",
            " 6   DEST_CITY            object \n",
            " 7   DEST_STATE           object \n",
            " 8   DEST_LATITUDE        float64\n",
            " 9   DEST_LONGITUDE       float64\n",
            " 10  AIRLINE              object \n",
            " 11  YEAR                 int64  \n",
            " 12  MONTH                int64  \n",
            " 13  DAY                  int64  \n",
            " 14  DAY_OF_WEEK          int64  \n",
            " 15  FLIGHT_NUMBER        int64  \n",
            " 16  TAIL_NUMBER          object \n",
            " 17  SCHEDULED_DEPARTURE  int64  \n",
            " 18  DEPARTURE_TIME       float64\n",
            " 19  DEPARTURE_DELAY      float64\n",
            " 20  TAXI_OUT             float64\n",
            " 21  WHEELS_OFF           float64\n",
            " 22  SCHEDULED_TIME       float64\n",
            " 23  ELAPSED_TIME         float64\n",
            " 24  AIR_TIME             float64\n",
            " 25  DISTANCE             int64  \n",
            " 26  WHEELS_ON            float64\n",
            " 27  TAXI_IN              float64\n",
            " 28  SCHEDULED_ARRIVAL    int64  \n",
            " 29  ARRIVAL_TIME         float64\n",
            " 30  ARRIVAL_DELAY        float64\n",
            " 31  DIVERTED             int64  \n",
            " 32  CANCELLED            int64  \n",
            "dtypes: float64(15), int64(10), object(8)\n",
            "memory usage: 1.3+ GB\n"
          ]
        }
      ]
    },
    {
      "cell_type": "code",
      "source": [
        "df1[['TAXI_OUT', 'WHEELS_OFF']]"
      ],
      "metadata": {
        "colab": {
          "base_uri": "https://localhost:8080/",
          "height": 424
        },
        "id": "igTBaFyLM3TT",
        "outputId": "07b51240-4218-4663-8630-28ac95a8f9ed"
      },
      "execution_count": null,
      "outputs": [
        {
          "output_type": "execute_result",
          "data": {
            "text/plain": [
              "         TAXI_OUT  WHEELS_OFF\n",
              "0            22.0      2123.0\n",
              "1            17.0      2049.0\n",
              "2            12.0      2044.0\n",
              "3            14.0      2045.0\n",
              "4            20.0      2050.0\n",
              "...           ...         ...\n",
              "5332909      21.0      1003.0\n",
              "5332910      22.0      1122.0\n",
              "5332911      18.0      1454.0\n",
              "5332912      15.0      1751.0\n",
              "5332913      10.0      2237.0\n",
              "\n",
              "[5222000 rows x 2 columns]"
            ],
            "text/html": [
              "\n",
              "  <div id=\"df-92aa9cc3-42da-4a81-9758-57b65acfe4dd\">\n",
              "    <div class=\"colab-df-container\">\n",
              "      <div>\n",
              "<style scoped>\n",
              "    .dataframe tbody tr th:only-of-type {\n",
              "        vertical-align: middle;\n",
              "    }\n",
              "\n",
              "    .dataframe tbody tr th {\n",
              "        vertical-align: top;\n",
              "    }\n",
              "\n",
              "    .dataframe thead th {\n",
              "        text-align: right;\n",
              "    }\n",
              "</style>\n",
              "<table border=\"1\" class=\"dataframe\">\n",
              "  <thead>\n",
              "    <tr style=\"text-align: right;\">\n",
              "      <th></th>\n",
              "      <th>TAXI_OUT</th>\n",
              "      <th>WHEELS_OFF</th>\n",
              "    </tr>\n",
              "  </thead>\n",
              "  <tbody>\n",
              "    <tr>\n",
              "      <th>0</th>\n",
              "      <td>22.0</td>\n",
              "      <td>2123.0</td>\n",
              "    </tr>\n",
              "    <tr>\n",
              "      <th>1</th>\n",
              "      <td>17.0</td>\n",
              "      <td>2049.0</td>\n",
              "    </tr>\n",
              "    <tr>\n",
              "      <th>2</th>\n",
              "      <td>12.0</td>\n",
              "      <td>2044.0</td>\n",
              "    </tr>\n",
              "    <tr>\n",
              "      <th>3</th>\n",
              "      <td>14.0</td>\n",
              "      <td>2045.0</td>\n",
              "    </tr>\n",
              "    <tr>\n",
              "      <th>4</th>\n",
              "      <td>20.0</td>\n",
              "      <td>2050.0</td>\n",
              "    </tr>\n",
              "    <tr>\n",
              "      <th>...</th>\n",
              "      <td>...</td>\n",
              "      <td>...</td>\n",
              "    </tr>\n",
              "    <tr>\n",
              "      <th>5332909</th>\n",
              "      <td>21.0</td>\n",
              "      <td>1003.0</td>\n",
              "    </tr>\n",
              "    <tr>\n",
              "      <th>5332910</th>\n",
              "      <td>22.0</td>\n",
              "      <td>1122.0</td>\n",
              "    </tr>\n",
              "    <tr>\n",
              "      <th>5332911</th>\n",
              "      <td>18.0</td>\n",
              "      <td>1454.0</td>\n",
              "    </tr>\n",
              "    <tr>\n",
              "      <th>5332912</th>\n",
              "      <td>15.0</td>\n",
              "      <td>1751.0</td>\n",
              "    </tr>\n",
              "    <tr>\n",
              "      <th>5332913</th>\n",
              "      <td>10.0</td>\n",
              "      <td>2237.0</td>\n",
              "    </tr>\n",
              "  </tbody>\n",
              "</table>\n",
              "<p>5222000 rows × 2 columns</p>\n",
              "</div>\n",
              "      <button class=\"colab-df-convert\" onclick=\"convertToInteractive('df-92aa9cc3-42da-4a81-9758-57b65acfe4dd')\"\n",
              "              title=\"Convert this dataframe to an interactive table.\"\n",
              "              style=\"display:none;\">\n",
              "        \n",
              "  <svg xmlns=\"http://www.w3.org/2000/svg\" height=\"24px\"viewBox=\"0 0 24 24\"\n",
              "       width=\"24px\">\n",
              "    <path d=\"M0 0h24v24H0V0z\" fill=\"none\"/>\n",
              "    <path d=\"M18.56 5.44l.94 2.06.94-2.06 2.06-.94-2.06-.94-.94-2.06-.94 2.06-2.06.94zm-11 1L8.5 8.5l.94-2.06 2.06-.94-2.06-.94L8.5 2.5l-.94 2.06-2.06.94zm10 10l.94 2.06.94-2.06 2.06-.94-2.06-.94-.94-2.06-.94 2.06-2.06.94z\"/><path d=\"M17.41 7.96l-1.37-1.37c-.4-.4-.92-.59-1.43-.59-.52 0-1.04.2-1.43.59L10.3 9.45l-7.72 7.72c-.78.78-.78 2.05 0 2.83L4 21.41c.39.39.9.59 1.41.59.51 0 1.02-.2 1.41-.59l7.78-7.78 2.81-2.81c.8-.78.8-2.07 0-2.86zM5.41 20L4 18.59l7.72-7.72 1.47 1.35L5.41 20z\"/>\n",
              "  </svg>\n",
              "      </button>\n",
              "      \n",
              "  <style>\n",
              "    .colab-df-container {\n",
              "      display:flex;\n",
              "      flex-wrap:wrap;\n",
              "      gap: 12px;\n",
              "    }\n",
              "\n",
              "    .colab-df-convert {\n",
              "      background-color: #E8F0FE;\n",
              "      border: none;\n",
              "      border-radius: 50%;\n",
              "      cursor: pointer;\n",
              "      display: none;\n",
              "      fill: #1967D2;\n",
              "      height: 32px;\n",
              "      padding: 0 0 0 0;\n",
              "      width: 32px;\n",
              "    }\n",
              "\n",
              "    .colab-df-convert:hover {\n",
              "      background-color: #E2EBFA;\n",
              "      box-shadow: 0px 1px 2px rgba(60, 64, 67, 0.3), 0px 1px 3px 1px rgba(60, 64, 67, 0.15);\n",
              "      fill: #174EA6;\n",
              "    }\n",
              "\n",
              "    [theme=dark] .colab-df-convert {\n",
              "      background-color: #3B4455;\n",
              "      fill: #D2E3FC;\n",
              "    }\n",
              "\n",
              "    [theme=dark] .colab-df-convert:hover {\n",
              "      background-color: #434B5C;\n",
              "      box-shadow: 0px 1px 3px 1px rgba(0, 0, 0, 0.15);\n",
              "      filter: drop-shadow(0px 1px 2px rgba(0, 0, 0, 0.3));\n",
              "      fill: #FFFFFF;\n",
              "    }\n",
              "  </style>\n",
              "\n",
              "      <script>\n",
              "        const buttonEl =\n",
              "          document.querySelector('#df-92aa9cc3-42da-4a81-9758-57b65acfe4dd button.colab-df-convert');\n",
              "        buttonEl.style.display =\n",
              "          google.colab.kernel.accessAllowed ? 'block' : 'none';\n",
              "\n",
              "        async function convertToInteractive(key) {\n",
              "          const element = document.querySelector('#df-92aa9cc3-42da-4a81-9758-57b65acfe4dd');\n",
              "          const dataTable =\n",
              "            await google.colab.kernel.invokeFunction('convertToInteractive',\n",
              "                                                     [key], {});\n",
              "          if (!dataTable) return;\n",
              "\n",
              "          const docLinkHtml = 'Like what you see? Visit the ' +\n",
              "            '<a target=\"_blank\" href=https://colab.research.google.com/notebooks/data_table.ipynb>data table notebook</a>'\n",
              "            + ' to learn more about interactive tables.';\n",
              "          element.innerHTML = '';\n",
              "          dataTable['output_type'] = 'display_data';\n",
              "          await google.colab.output.renderOutput(dataTable, element);\n",
              "          const docLink = document.createElement('div');\n",
              "          docLink.innerHTML = docLinkHtml;\n",
              "          element.appendChild(docLink);\n",
              "        }\n",
              "      </script>\n",
              "    </div>\n",
              "  </div>\n",
              "  "
            ]
          },
          "metadata": {},
          "execution_count": 31
        }
      ]
    },
    {
      "cell_type": "markdown",
      "source": [
        "##Feature Engineering ⚙"
      ],
      "metadata": {
        "id": "WqAtCwJro59S"
      }
    },
    {
      "cell_type": "markdown",
      "source": [
        "####Datetime"
      ],
      "metadata": {
        "id": "O8Ohc8fWh2rq"
      }
    },
    {
      "cell_type": "code",
      "source": [
        "df1[\"Date\"] = pd.to_datetime(dict(year=df1.YEAR, month=df1.MONTH, day=df1.DAY))"
      ],
      "metadata": {
        "id": "OrYrkArTIoeD"
      },
      "execution_count": null,
      "outputs": []
    },
    {
      "cell_type": "code",
      "source": [
        "df1['Date']"
      ],
      "metadata": {
        "colab": {
          "base_uri": "https://localhost:8080/"
        },
        "id": "kZb7WyxchuDM",
        "outputId": "e9c36482-af22-4d6b-f15d-ca372fca4803"
      },
      "execution_count": null,
      "outputs": [
        {
          "output_type": "execute_result",
          "data": {
            "text/plain": [
              "0         2015-01-04\n",
              "1         2015-01-05\n",
              "2         2015-01-06\n",
              "3         2015-01-07\n",
              "4         2015-01-08\n",
              "             ...    \n",
              "5332909   2015-12-31\n",
              "5332910   2015-12-31\n",
              "5332911   2015-12-31\n",
              "5332912   2015-12-31\n",
              "5332913   2015-12-31\n",
              "Name: Date, Length: 5222000, dtype: datetime64[ns]"
            ]
          },
          "metadata": {},
          "execution_count": 33
        }
      ]
    },
    {
      "cell_type": "markdown",
      "source": [
        "####Speed\n"
      ],
      "metadata": {
        "id": "Rq7SkXrUkG-b"
      }
    },
    {
      "cell_type": "code",
      "source": [
        "df1['SPEED'] = 60*df1['DISTANCE']/df1['AIR_TIME']"
      ],
      "metadata": {
        "id": "Ah5DERQ6kIWU"
      },
      "execution_count": null,
      "outputs": []
    },
    {
      "cell_type": "markdown",
      "source": [
        "####Taxi "
      ],
      "metadata": {
        "id": "4ndeIk6XIt9W"
      }
    },
    {
      "cell_type": "markdown",
      "source": [
        "Remind that:\n",
        "- TAXI_IN = ARRIVAL_TIME - WHEELS_ON\n",
        "- TAXI_OUT = WHEELS_OFF - DEPARTURE_TIME"
      ],
      "metadata": {
        "id": "4ue72gHXKhED"
      }
    },
    {
      "cell_type": "code",
      "source": [
        "df1['TAXI_DIFF'] = df1['TAXI_OUT'] - df1['TAXI_IN']"
      ],
      "metadata": {
        "id": "K8Hyyu6eI0gg"
      },
      "execution_count": null,
      "outputs": []
    },
    {
      "cell_type": "markdown",
      "source": [
        "##Analysis 📋"
      ],
      "metadata": {
        "id": "N2KLMx1fo-Fj"
      }
    },
    {
      "cell_type": "markdown",
      "source": [
        "###Analysis on **OLD** features 📊"
      ],
      "metadata": {
        "id": "AXuzdlAoK1sL"
      }
    },
    {
      "cell_type": "code",
      "source": [
        "# Import Tableau Visualisation \n",
        "from IPython.display import IFrame\n",
        "IFrame('https://public.tableau.com/views/USFlightDelaysCancellations/FlightDelays-PolitcalDestinationMap?:embed=y&:display_count=yes', width=500, height=500)"
      ],
      "metadata": {
        "colab": {
          "base_uri": "https://localhost:8080/",
          "height": 521
        },
        "id": "AaCwlQ9TYQ0g",
        "outputId": "3cae4882-1674-47be-e2e3-cc0073fc43c3"
      },
      "execution_count": null,
      "outputs": [
        {
          "output_type": "execute_result",
          "data": {
            "text/plain": [
              "<IPython.lib.display.IFrame at 0x7fb236051640>"
            ],
            "text/html": [
              "\n",
              "        <iframe\n",
              "            width=\"500\"\n",
              "            height=\"500\"\n",
              "            src=\"https://public.tableau.com/views/USFlightDelaysCancellations/FlightDelays-PolitcalDestinationMap?:embed=y&:display_count=yes\"\n",
              "            frameborder=\"0\"\n",
              "            allowfullscreen\n",
              "        ></iframe>\n",
              "        "
            ]
          },
          "metadata": {},
          "execution_count": 40
        }
      ]
    },
    {
      "cell_type": "code",
      "source": [
        "colors = ['red', 'orange', 'yellow', 'green', 'blue', 'indigo', 'violet', 'black', 'grey', 'cyan'];"
      ],
      "metadata": {
        "id": "QzpgF33LlOS_"
      },
      "execution_count": null,
      "outputs": []
    },
    {
      "cell_type": "markdown",
      "source": [
        "***Where are most flights taken from?***\n",
        "- To answer this question we visualized the highest distribution between the origin airports. As we can see the highest percentage is Martsfield-Jackson Atlanta International Aiport. "
      ],
      "metadata": {
        "id": "n80vDiHHRq4F"
      }
    },
    {
      "cell_type": "code",
      "source": [
        "#Define the data\n",
        "df_temp = df1['ORG_AIRPORT'].value_counts()[:10]\n",
        "label = df_temp.index\n",
        "\n",
        "# define Seaborn color palette to use\n",
        "palette_color = sns.color_palette('bright')\n",
        "\n",
        "fig = plt.figure(figsize=(15,8))\n",
        "plt.pie(data, labels=label, colors=palette_color, autopct='%.0f%%')\n",
        "plt.title('Origin Airport Distribution')\n",
        "plt.show()"
      ],
      "metadata": {
        "colab": {
          "base_uri": "https://localhost:8080/",
          "height": 482
        },
        "id": "r5yjXLvvlSzK",
        "outputId": "b0251a01-ba3b-4b14-9674-4afce699fbbd"
      },
      "execution_count": null,
      "outputs": [
        {
          "output_type": "display_data",
          "data": {
            "text/plain": [
              "<Figure size 1080x576 with 1 Axes>"
            ],
            "image/png": "[encoded data removed]"
          },
          "metadata": {}
        }
      ]
    },
    {
      "cell_type": "markdown",
      "source": [
        "***Which CITY are most flights taken from?***\n",
        "- To answer this question we visualized the distribution of the origin city (where flights are taken from). As we can see CHICAGO has the highest distribution and Atlanta following up closely. "
      ],
      "metadata": {
        "id": "8sIQQ0cVSE0t"
      }
    },
    {
      "cell_type": "code",
      "source": [
        "df_temp = df1.ORG_CITY.value_counts()[:10]\n",
        "fig = plt.figure(figsize=(15,8))\n",
        "df_temp.plot.bar(rot=70, title=\"Origin City Distribution\", color=colors)"
      ],
      "metadata": {
        "colab": {
          "base_uri": "https://localhost:8080/",
          "height": 591
        },
        "id": "Bo-0H4HtoCkI",
        "outputId": "79a55c50-3be3-4ecf-82da-4059547a7bff"
      },
      "execution_count": null,
      "outputs": [
        {
          "output_type": "execute_result",
          "data": {
            "text/plain": [
              "<matplotlib.axes._subplots.AxesSubplot at 0x7fb2343548e0>"
            ]
          },
          "metadata": {},
          "execution_count": 77
        },
        {
          "output_type": "display_data",
          "data": {
            "text/plain": [
              "<Figure size 1080x576 with 1 Axes>"
            ],
            "image/png": "[encoded data removed]"
          },
          "metadata": {
            "needs_background": "light"
          }
        }
      ]
    },
    {
      "cell_type": "markdown",
      "source": [
        "***Which CITY are most flights going to?***\n",
        "- To answer this question we once again visualized the destination city distribution to check which has the highest count. CHICAGO and Atlanta once again come at a close first and second respectively. We can also see the most of the origin and destination city distribution is very similar this implies that manmy people make return flights. "
      ],
      "metadata": {
        "id": "ttgD7fkjScwu"
      }
    },
    {
      "cell_type": "code",
      "source": [
        "df_temp = df1.DEST_CITY.value_counts()[:10]\n",
        "fig = plt.figure(figsize=(15,8))\n",
        "df_temp.plot.bar(rot=70, title=\"Destination City Distribution\", color=colors)"
      ],
      "metadata": {
        "colab": {
          "base_uri": "https://localhost:8080/",
          "height": 591
        },
        "id": "U656S9mAHslF",
        "outputId": "d0e873cb-230e-46bf-e59a-ca539a78b9d3"
      },
      "execution_count": null,
      "outputs": [
        {
          "output_type": "execute_result",
          "data": {
            "text/plain": [
              "<matplotlib.axes._subplots.AxesSubplot at 0x7fb2366574c0>"
            ]
          },
          "metadata": {},
          "execution_count": 76
        },
        {
          "output_type": "display_data",
          "data": {
            "text/plain": [
              "<Figure size 1080x576 with 1 Axes>"
            ],
            "image/png": "[encoded data removed]"
          },
          "metadata": {
            "needs_background": "light"
          }
        }
      ]
    },
    {
      "cell_type": "markdown",
      "source": [
        "***Which is the most preferred airline?***\n",
        "- To answer this querstion we visualized and compared the airline count between all the airlines. SOUTHWEST AIRLINES CO. is seemingly the most preferred airlines in the USA by far. "
      ],
      "metadata": {
        "id": "AqGlguNmTEZw"
      }
    },
    {
      "cell_type": "code",
      "source": [
        "df_temp = df1.AIRLINE.value_counts()[:10]\n",
        "fig = plt.figure(figsize=(15,8))\n",
        "df_temp.plot.bar(rot=15, title=\"Airline Distribution\", color=colors)"
      ],
      "metadata": {
        "colab": {
          "base_uri": "https://localhost:8080/",
          "height": 552
        },
        "id": "t-n09t7bAJrM",
        "outputId": "befa3c68-ecc4-4cf9-fae7-f1c72e332cd7"
      },
      "execution_count": null,
      "outputs": [
        {
          "output_type": "execute_result",
          "data": {
            "text/plain": [
              "<matplotlib.axes._subplots.AxesSubplot at 0x7fb234bb77c0>"
            ]
          },
          "metadata": {},
          "execution_count": 54
        },
        {
          "output_type": "display_data",
          "data": {
            "text/plain": [
              "<Figure size 1080x576 with 1 Axes>"
            ],
            "image/png": "[encoded data removed]"
          },
          "metadata": {
            "needs_background": "light"
          }
        }
      ]
    },
    {
      "cell_type": "markdown",
      "source": [
        "***Which month do flights occur the most?***\n",
        "- We visualized the month and its respective flight count and we came to the conclusion that the most flights are made during March - August with the highest being July. The rest of the year there is a significant decrease in flights. "
      ],
      "metadata": {
        "id": "Y6xARJ8NTjcr"
      }
    },
    {
      "cell_type": "code",
      "source": [
        "df_temp = df1.MONTH.value_counts().to_frame().reset_index().sort_values(by='index')\n",
        "df_temp.columns = ['month', 'flight_num']\n",
        "month = {1: 'Jan', 2: 'Feb', 3: 'Mar', 4: 'Apr', 5: 'May', 6: 'Jun', 7: 'Jul', 8: 'Aug', 9: 'Sep', 10: 'Oct', 11: 'Nov', 12: 'Dec'}\n",
        "df_temp.month = df_temp.month.map(month)\n",
        "\n",
        "fig = plt.figure(figsize=(15,8))\n",
        "sns.barplot(data=df_temp, x='flight_num', y='month').set(title='Number of Flights Per Month')"
      ],
      "metadata": {
        "colab": {
          "base_uri": "https://localhost:8080/",
          "height": 531
        },
        "id": "ZSQcJ1a6Bj2w",
        "outputId": "ac9a3231-8f1e-467f-9b0e-e4404e7804b6"
      },
      "execution_count": null,
      "outputs": [
        {
          "output_type": "execute_result",
          "data": {
            "text/plain": [
              "[Text(0.5, 1.0, 'Number of Flights Per Month')]"
            ]
          },
          "metadata": {},
          "execution_count": 73
        },
        {
          "output_type": "display_data",
          "data": {
            "text/plain": [
              "<Figure size 1080x576 with 1 Axes>"
            ],
            "image/png": "[encoded data removed]"
          },
          "metadata": {
            "needs_background": "light"
          }
        }
      ]
    },
    {
      "cell_type": "markdown",
      "source": [
        "###Analysis on **NEW** features 📊"
      ],
      "metadata": {
        "id": "4A7wYxEMI_cB"
      }
    },
    {
      "cell_type": "markdown",
      "source": [
        "####Taxi"
      ],
      "metadata": {
        "id": "l9Oz6xExKxwh"
      }
    },
    {
      "cell_type": "markdown",
      "source": [
        "***Which airline has the biggest and smallest Taxi difference?***\n",
        "- We can see in the below visualization that the highest Taxi difference is from JETLINE AIRWAYS and the lowest Taxi differncet is HUWAIIAN AIRLINES INC."
      ],
      "metadata": {
        "id": "RMtWvgt1ULI2"
      }
    },
    {
      "cell_type": "code",
      "source": [
        "df_temp = df1.groupby('AIRLINE').TAXI_DIFF.mean().to_frame().sort_values(by='TAXI_DIFF',ascending=False).round(2)\n",
        "x = df_temp.index\n",
        "y = df_temp.TAXI_DIFF\n",
        "fig = plt.figure(figsize=(15,8))\n",
        "plt.xticks(rotation=70)\n",
        "#df_temp.plot.bar(rot=15, title=\"Mean Taxi Difference By Airlines\", color=colors)\n",
        "sns.barplot(data=df_temp, x=x, y=y).set(title='Mean Taxi Difference By Airlines')"
      ],
      "metadata": {
        "colab": {
          "base_uri": "https://localhost:8080/",
          "height": 655
        },
        "id": "m5pepONBJD3n",
        "outputId": "a4e0bb99-f6b4-47e0-fe85-55f4a7a22af5"
      },
      "execution_count": null,
      "outputs": [
        {
          "output_type": "execute_result",
          "data": {
            "text/plain": [
              "[Text(0.5, 1.0, 'Mean Taxi Difference By Airlines')]"
            ]
          },
          "metadata": {},
          "execution_count": 86
        },
        {
          "output_type": "display_data",
          "data": {
            "text/plain": [
              "<Figure size 1080x576 with 1 Axes>"
            ],
            "image/png": "[encoded data removed]"
          },
          "metadata": {
            "needs_background": "light"
          }
        }
      ]
    },
    {
      "cell_type": "markdown",
      "source": [
        "####Speed"
      ],
      "metadata": {
        "id": "0SpJqq2BLDEq"
      }
    },
    {
      "cell_type": "markdown",
      "source": [
        "***Which airline have the fastest aircrafts and which have the slowest?***\n",
        "- Given the below visualization, UNITED AIRLINES INC. have the fastest aircrafts and HUWAIIAN AIRLINES INC. have the slowest aircrafts. This doesn't necessary mean the aircrafts themselves are slow, it could possibly mean that the airline company chooses to fly slower to perhaps save fuel."
      ],
      "metadata": {
        "id": "TOleHthBVgY8"
      }
    },
    {
      "cell_type": "code",
      "source": [
        "df_temp = df1.groupby('AIRLINE').SPEED.mean().to_frame().sort_values(by='SPEED',ascending=False).round(2)\n",
        "x = df_temp.index\n",
        "y = df_temp.SPEED\n",
        "fig = plt.figure(figsize=(15,8))\n",
        "plt.xticks(rotation=70)\n",
        "sns.barplot(data=df_temp, x=x, y=y).set(title='Mean Speed By Airlines')"
      ],
      "metadata": {
        "colab": {
          "base_uri": "https://localhost:8080/",
          "height": 655
        },
        "id": "l8fllkg-LEMY",
        "outputId": "9eeb597c-19ff-4a53-fa40-a2ca1114b95a"
      },
      "execution_count": null,
      "outputs": [
        {
          "output_type": "execute_result",
          "data": {
            "text/plain": [
              "[Text(0.5, 1.0, 'Mean Speed By Airlines')]"
            ]
          },
          "metadata": {},
          "execution_count": 95
        },
        {
          "output_type": "display_data",
          "data": {
            "text/plain": [
              "<Figure size 1080x576 with 1 Axes>"
            ],
            "image/png": "[encoded data removed]"
          },
          "metadata": {
            "needs_background": "light"
          }
        }
      ]
    }
  ]
}